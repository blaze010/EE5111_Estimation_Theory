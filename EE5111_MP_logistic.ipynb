{
  "nbformat": 4,
  "nbformat_minor": 0,
  "metadata": {
    "colab": {
      "provenance": []
    },
    "kernelspec": {
      "name": "python3",
      "display_name": "Python 3"
    },
    "language_info": {
      "name": "python"
    }
  },
  "cells": [
    {
      "cell_type": "markdown",
      "source": [
        "## Dolphins graph"
      ],
      "metadata": {
        "id": "6k2UlMoEVSQ_"
      }
    },
    {
      "cell_type": "markdown",
      "source": [
        "- Download the .mtx graph file from https://networkrepository.com/soc-dolphins.php. \n",
        "- This file essentially is a matrix file depicting the edges of the graph."
      ],
      "metadata": {
        "id": "rvdJeZMWWleY"
      }
    },
    {
      "cell_type": "code",
      "source": [
        "from scipy.io import mmread\n",
        "\n",
        "dolphins = mmread('drive/MyDrive/EE5111/soc-dolphins.mtx')\n",
        "dolphins = dolphins.toarray()"
      ],
      "metadata": {
        "id": "MtKCuBHLVZD6"
      },
      "execution_count": null,
      "outputs": []
    },
    {
      "cell_type": "code",
      "source": [
        "dolphins.shape"
      ],
      "metadata": {
        "colab": {
          "base_uri": "https://localhost:8080/"
        },
        "id": "DseMdwu_V5Sa",
        "outputId": "57110718-3deb-443a-da39-5b01ce66c0a9"
      },
      "execution_count": null,
      "outputs": [
        {
          "output_type": "execute_result",
          "data": {
            "text/plain": [
              "(62, 62)"
            ]
          },
          "metadata": {},
          "execution_count": 88
        }
      ]
    },
    {
      "cell_type": "markdown",
      "source": [
        "The graph has 62 nodes."
      ],
      "metadata": {
        "id": "8-wDkmwRW1v2"
      }
    },
    {
      "cell_type": "markdown",
      "source": [
        "1 represents the presence of an edge, 0 represents the absence of an edge"
      ],
      "metadata": {
        "id": "6AX4zIchWjTx"
      }
    },
    {
      "cell_type": "markdown",
      "source": [
        "## Transition matrix for simple random walk"
      ],
      "metadata": {
        "id": "-WyHz80EW71-"
      }
    },
    {
      "cell_type": "code",
      "source": [
        "import numpy as np"
      ],
      "metadata": {
        "id": "a6od9GZjX4se"
      },
      "execution_count": null,
      "outputs": []
    },
    {
      "cell_type": "code",
      "source": [
        "def gen_srw_transition(graph):\n",
        "\n",
        "  vertices = graph.shape[0]\n",
        "  trans_mtx = np.zeros((vertices, vertices))\n",
        "  degrees = []\n",
        "\n",
        "  for i in range(vertices):\n",
        "    total_edges = np.sum(graph[i, :])\n",
        "    degrees.append(total_edges)\n",
        "    trans_mtx[i, :] = graph[i, :]/total_edges\n",
        "  \n",
        "  return trans_mtx, degrees"
      ],
      "metadata": {
        "id": "w3T6XL-pXI8g"
      },
      "execution_count": null,
      "outputs": []
    },
    {
      "cell_type": "code",
      "source": [
        "srw_mtx, d = gen_srw_transition(dolphins)"
      ],
      "metadata": {
        "id": "QqX6PQwAXzDD"
      },
      "execution_count": null,
      "outputs": []
    },
    {
      "cell_type": "code",
      "source": [
        "srw_mtx[0]"
      ],
      "metadata": {
        "colab": {
          "base_uri": "https://localhost:8080/"
        },
        "id": "99jgURRShixG",
        "outputId": "fa2c90ff-78b8-4be6-a1fe-f74a20662d45"
      },
      "execution_count": null,
      "outputs": [
        {
          "output_type": "execute_result",
          "data": {
            "text/plain": [
              "array([0.        , 0.        , 0.        , 0.        , 0.        ,\n",
              "       0.        , 0.        , 0.        , 0.        , 0.        ,\n",
              "       0.16666667, 0.        , 0.        , 0.        , 0.16666667,\n",
              "       0.16666667, 0.        , 0.        , 0.        , 0.        ,\n",
              "       0.        , 0.        , 0.        , 0.        , 0.        ,\n",
              "       0.        , 0.        , 0.        , 0.        , 0.        ,\n",
              "       0.        , 0.        , 0.        , 0.        , 0.        ,\n",
              "       0.        , 0.        , 0.        , 0.        , 0.        ,\n",
              "       0.16666667, 0.        , 0.16666667, 0.        , 0.        ,\n",
              "       0.        , 0.        , 0.16666667, 0.        , 0.        ,\n",
              "       0.        , 0.        , 0.        , 0.        , 0.        ,\n",
              "       0.        , 0.        , 0.        , 0.        , 0.        ,\n",
              "       0.        , 0.        ])"
            ]
          },
          "metadata": {},
          "execution_count": 92
        }
      ]
    },
    {
      "cell_type": "code",
      "source": [
        "sum(d)"
      ],
      "metadata": {
        "colab": {
          "base_uri": "https://localhost:8080/"
        },
        "id": "3Yc-nMhYfyvZ",
        "outputId": "451c364c-4e78-4a2f-b1aa-bbf4dd8fc21c"
      },
      "execution_count": null,
      "outputs": [
        {
          "output_type": "execute_result",
          "data": {
            "text/plain": [
              "318.0"
            ]
          },
          "metadata": {},
          "execution_count": 93
        }
      ]
    },
    {
      "cell_type": "markdown",
      "source": [
        "## CIFAR-10"
      ],
      "metadata": {
        "id": "3mAN0Cp8X3XW"
      }
    },
    {
      "cell_type": "code",
      "source": [
        "import torch\n",
        "import torch.nn as nn\n",
        "import torchvision\n",
        "import torchvision.datasets as datasets\n",
        "import torchvision.transforms as transforms\n",
        "import numpy as np\n",
        "import matplotlib.pyplot as plt\n",
        "import torch.optim as optim\n",
        "from tqdm import tqdm"
      ],
      "metadata": {
        "id": "zb9vvdKHaT6u"
      },
      "execution_count": null,
      "outputs": []
    },
    {
      "cell_type": "code",
      "source": [
        "transform = transforms.Compose([\n",
        "    transforms.Resize([6, 6]),\n",
        "    transforms.ToTensor()\n",
        "])\n",
        "\n",
        "train_dataset = datasets.CIFAR10(root='./data', train=True, download=True, transform= transform)"
      ],
      "metadata": {
        "colab": {
          "base_uri": "https://localhost:8080/"
        },
        "id": "rcdNlomBaU31",
        "outputId": "47f445b5-5250-406a-ece6-9840236c2dfb"
      },
      "execution_count": null,
      "outputs": [
        {
          "output_type": "stream",
          "name": "stdout",
          "text": [
            "Files already downloaded and verified\n"
          ]
        }
      ]
    },
    {
      "cell_type": "code",
      "source": [
        "data = []\n",
        "labels = []\n",
        "\n",
        "for i in range(50000):\n",
        "  data.append(train_dataset[i][0].numpy().flatten())\n",
        "  labels.append(train_dataset[i][1])\n",
        "\n",
        "data"
      ],
      "metadata": {
        "id": "Q3SAdGxFbLES"
      },
      "execution_count": null,
      "outputs": []
    },
    {
      "cell_type": "code",
      "source": [
        "data[0]"
      ],
      "metadata": {
        "colab": {
          "base_uri": "https://localhost:8080/"
        },
        "id": "ohUOUa6ZbPxo",
        "outputId": "f8743596-7830-4f97-bd27-f304030a9a02"
      },
      "execution_count": null,
      "outputs": [
        {
          "output_type": "execute_result",
          "data": {
            "text/plain": [
              "array([0.32156864, 0.47058824, 0.45882353, 0.4627451 , 0.50980395,\n",
              "       0.46666667, 0.49803922, 0.48235294, 0.40784314, 0.4745098 ,\n",
              "       0.46666667, 0.45490196, 0.53333336, 0.48235294, 0.6901961 ,\n",
              "       0.78039217, 0.64705884, 0.5254902 , 0.52156866, 0.65882355,\n",
              "       0.74509805, 0.7058824 , 0.7058824 , 0.5137255 , 0.5686275 ,\n",
              "       0.63529414, 0.65882355, 0.5647059 , 0.5176471 , 0.54509807,\n",
              "       0.6901961 , 0.60784316, 0.5647059 , 0.5568628 , 0.50980395,\n",
              "       0.50980395, 0.21176471, 0.31764707, 0.31764707, 0.32156864,\n",
              "       0.36078432, 0.32941177, 0.34509805, 0.3254902 , 0.25490198,\n",
              "       0.2901961 , 0.3019608 , 0.30980393, 0.3882353 , 0.3372549 ,\n",
              "       0.53333336, 0.6431373 , 0.5137255 , 0.3764706 , 0.3647059 ,\n",
              "       0.5372549 , 0.6117647 , 0.6       , 0.6117647 , 0.40784314,\n",
              "       0.3882353 , 0.47843137, 0.5019608 , 0.4       , 0.40392157,\n",
              "       0.48235294, 0.5294118 , 0.4509804 , 0.39607844, 0.38039216,\n",
              "       0.36078432, 0.39215687, 0.11372549, 0.18039216, 0.1764706 ,\n",
              "       0.18431373, 0.21960784, 0.20392157, 0.2       , 0.1764706 ,\n",
              "       0.12941177, 0.18039216, 0.19215687, 0.17254902, 0.24705882,\n",
              "       0.20392157, 0.36078432, 0.47843137, 0.36078432, 0.21568628,\n",
              "       0.21568628, 0.41960785, 0.47058824, 0.44705883, 0.43529412,\n",
              "       0.15686275, 0.19607843, 0.3254902 , 0.3529412 , 0.23137255,\n",
              "       0.20784314, 0.19215687, 0.1764706 , 0.21176471, 0.24313726,\n",
              "       0.22745098, 0.19607843, 0.22745098], dtype=float32)"
            ]
          },
          "metadata": {},
          "execution_count": 64
        }
      ]
    },
    {
      "cell_type": "code",
      "source": [
        "x0 = []\n",
        "x1 = []\n",
        "\n",
        "\n",
        "\n",
        "\n",
        "for i in range(50000):\n",
        "\n",
        "  if ((labels[i] == 0) and len(x0) < 31 ):\n",
        "    x0.append(data[i])\n",
        "  if ((labels[i] == 3) and len(x1) < 31 ):\n",
        "    x1.append(data[i])\n",
        "  \n"
      ],
      "metadata": {
        "id": "jNPvjb6cbVCV"
      },
      "execution_count": null,
      "outputs": []
    },
    {
      "cell_type": "code",
      "source": [
        "len(x0)"
      ],
      "metadata": {
        "colab": {
          "base_uri": "https://localhost:8080/"
        },
        "id": "EdH_2zeagFd1",
        "outputId": "2bc1702a-d53a-4072-f17d-6da3ab4671f9"
      },
      "execution_count": null,
      "outputs": [
        {
          "output_type": "execute_result",
          "data": {
            "text/plain": [
              "31"
            ]
          },
          "metadata": {},
          "execution_count": 67
        }
      ]
    },
    {
      "cell_type": "code",
      "source": [
        "n = 62\n",
        "k = 108"
      ],
      "metadata": {
        "id": "7ThBLKcJecm0"
      },
      "execution_count": null,
      "outputs": []
    },
    {
      "cell_type": "code",
      "source": [
        "def fun(x):\n",
        "  x = x.reshape(k, 1)\n",
        "\n",
        "  sum = 0\n",
        "\n",
        "  for i in range(n//2):\n",
        "    xi = x0[i].reshape(k, 1)\n",
        "    sum += np.log(1 + np.exp(-1*(xi.T @ x)))\n",
        "  for i in range(n//2):\n",
        "    xi = x1[i].reshape(k, 1)\n",
        "    sum += np.log(1 + np.exp(1*(xi.T @ x)))\n",
        "  \n",
        "  sum /= n\n",
        "\n",
        "  sum += 0.5*(x.T @ x)\n",
        "\n",
        "\n",
        "  return sum"
      ],
      "metadata": {
        "id": "OICL4C7mkW70"
      },
      "execution_count": null,
      "outputs": []
    },
    {
      "cell_type": "code",
      "source": [
        "from scipy.optimize import minimize"
      ],
      "metadata": {
        "id": "HDWk-W61koAh"
      },
      "execution_count": null,
      "outputs": []
    },
    {
      "cell_type": "code",
      "source": [
        "test = minimize(fun, np.random.rand(k))"
      ],
      "metadata": {
        "id": "6_eK2mRWkltW"
      },
      "execution_count": null,
      "outputs": []
    },
    {
      "cell_type": "code",
      "source": [
        "theta_optim = test.x"
      ],
      "metadata": {
        "id": "LebntlnCk06x"
      },
      "execution_count": null,
      "outputs": []
    },
    {
      "cell_type": "markdown",
      "source": [
        "### Performing SGD"
      ],
      "metadata": {
        "id": "TF7M-b_CYVGu"
      }
    },
    {
      "cell_type": "code",
      "source": [
        "import matplotlib.pyplot as plt"
      ],
      "metadata": {
        "id": "GUp6XQOQjPet"
      },
      "execution_count": null,
      "outputs": []
    },
    {
      "cell_type": "code",
      "source": [
        "\n",
        "\n",
        "losses = []\n",
        "\n",
        "num_expts = 50\n",
        "\n",
        "for expt in range(num_expts):\n",
        "\n",
        "  print(\"Running experiment:\", expt+1)\n",
        "\n",
        "  ep_loss = []\n",
        "\n",
        "  theta = np.random.rand(k, 1)\n",
        "\n",
        "  num_iter = int(1e5)\n",
        "\n",
        "  current_node = np.random.choice(np.arange(0, n))\n",
        "\n",
        "  for i in range(1, num_iter + 1):\n",
        "\n",
        "    if current_node < 31:\n",
        "      xi = x0[current_node].reshape(k, 1)\n",
        "      yi = 1\n",
        "    else:\n",
        "      xi = x1[current_node - 31].reshape(k, 1)\n",
        "      yi = -1\n",
        "\n",
        "    gamma = 1/(i**(0.9))\n",
        "\n",
        "    exp_term = np.exp(-yi*(xi.T @  theta))\n",
        "\n",
        "\n",
        "    grad_g = (sum(d)/(n*d[current_node]))*( ((exp_term * (-yi) )/(1 + exp_term))*xi + 0.5*theta )\n",
        "\n",
        "    theta -= gamma * grad_g\n",
        "\n",
        "    current_node = np.random.choice(np.arange(0, n), p = srw_mtx[current_node].reshape(n))  \n",
        "\n",
        "    ep_loss.append(np.linalg.norm(theta - theta_optim)**2)\n",
        "  \n",
        "  losses.append(ep_loss)\n",
        "\n",
        "\n"
      ],
      "metadata": {
        "colab": {
          "base_uri": "https://localhost:8080/"
        },
        "id": "8nk9q0bUbsD4",
        "outputId": "96da9a4c-3ab2-4051-a793-d5f93739802f"
      },
      "execution_count": null,
      "outputs": [
        {
          "output_type": "stream",
          "name": "stdout",
          "text": [
            "Running experiment: 1\n",
            "Running experiment: 2\n",
            "Running experiment: 3\n",
            "Running experiment: 4\n",
            "Running experiment: 5\n",
            "Running experiment: 6\n",
            "Running experiment: 7\n",
            "Running experiment: 8\n",
            "Running experiment: 9\n",
            "Running experiment: 10\n",
            "Running experiment: 11\n",
            "Running experiment: 12\n",
            "Running experiment: 13\n",
            "Running experiment: 14\n",
            "Running experiment: 15\n",
            "Running experiment: 16\n",
            "Running experiment: 17\n",
            "Running experiment: 18\n",
            "Running experiment: 19\n",
            "Running experiment: 20\n",
            "Running experiment: 21\n",
            "Running experiment: 22\n",
            "Running experiment: 23\n",
            "Running experiment: 24\n",
            "Running experiment: 25\n",
            "Running experiment: 26\n",
            "Running experiment: 27\n",
            "Running experiment: 28\n",
            "Running experiment: 29\n",
            "Running experiment: 30\n",
            "Running experiment: 31\n",
            "Running experiment: 32\n",
            "Running experiment: 33\n",
            "Running experiment: 34\n",
            "Running experiment: 35\n",
            "Running experiment: 36\n",
            "Running experiment: 37\n",
            "Running experiment: 38\n",
            "Running experiment: 39\n",
            "Running experiment: 40\n",
            "Running experiment: 41\n",
            "Running experiment: 42\n",
            "Running experiment: 43\n",
            "Running experiment: 44\n",
            "Running experiment: 45\n",
            "Running experiment: 46\n",
            "Running experiment: 47\n",
            "Running experiment: 48\n",
            "Running experiment: 49\n",
            "Running experiment: 50\n"
          ]
        }
      ]
    },
    {
      "cell_type": "code",
      "source": [
        "exp_loss_srw = np.mean(np.array(losses), axis = 0)"
      ],
      "metadata": {
        "id": "0ityg9Jpwir-"
      },
      "execution_count": null,
      "outputs": []
    },
    {
      "cell_type": "code",
      "source": [
        "plt.plot(np.arange(0, num_iter), (exp_loss_srw))\n",
        "plt.yscale('log')"
      ],
      "metadata": {
        "colab": {
          "base_uri": "https://localhost:8080/",
          "height": 430
        },
        "id": "L9R0Tn3VwvdM",
        "outputId": "490a7ba0-96e4-48c0-97c7-7f36442eadee"
      },
      "execution_count": null,
      "outputs": [
        {
          "output_type": "display_data",
          "data": {
            "text/plain": [
              "<Figure size 640x480 with 1 Axes>"
            ],
            "image/png": "[encoded data removed]"
          },
          "metadata": {}
        }
      ]
    },
    {
      "cell_type": "code",
      "source": [
        "\n",
        "losses_nbrw = []\n",
        "\n",
        "num_expts = 50\n",
        "\n",
        "for expt in range(num_expts):\n",
        "\n",
        "  print(\"Running experiment:\", expt+1)\n",
        "\n",
        "  theta = np.random.rand(k, 1)\n",
        "\n",
        "  num_iter = int(1e5)\n",
        "\n",
        "  ep_loss = []\n",
        "\n",
        "  current_node = np.random.choice(np.arange(0, n))\n",
        "\n",
        "  for i in range(1, num_iter + 1):\n",
        "  \n",
        "\n",
        "    if current_node < 31:\n",
        "      xi = x0[current_node].reshape(k, 1)\n",
        "      yi = 1\n",
        "    else:\n",
        "      xi = x1[current_node - 31].reshape(k, 1)\n",
        "      yi = -1\n",
        "\n",
        "    gamma = 1/(i**(0.9))\n",
        "\n",
        "    exp_term = np.exp(-yi*(xi.T @  theta))\n",
        "\n",
        "\n",
        "    grad_g = (sum(d)/(n*d[current_node]))*( ((exp_term * (-yi) )/(1 + exp_term))*xi + 0.5*theta )\n",
        "\n",
        "    theta -= gamma * grad_g\n",
        "\n",
        "    if i == 1:\n",
        "      previous_node = current_node\n",
        "      current_node = np.random.choice(np.arange(0, n), p = srw_mtx[current_node].reshape(n))  \n",
        "\n",
        "    else:\n",
        "      probs_nbrw = dolphins[current_node].copy()\n",
        "      probs_nbrw[previous_node] = 0\n",
        "      if probs_nbrw.sum() == 0:\n",
        "        probs_nbrw[previous_node] = 1\n",
        "      else:\n",
        "        probs_nbrw /= probs_nbrw.sum()\n",
        "      previous_node = current_node\n",
        "      current_node = np.random.choice(np.arange(0, n), p = probs_nbrw)\n",
        "    \n",
        "    ep_loss.append(np.linalg.norm(theta - theta_optim)**2)\n",
        "\n",
        "  losses_nbrw.append(ep_loss)\n"
      ],
      "metadata": {
        "colab": {
          "base_uri": "https://localhost:8080/"
        },
        "id": "yU-1RiXAiMyC",
        "outputId": "8ea90bf1-e548-4e51-bb99-ea66e13432c4"
      },
      "execution_count": null,
      "outputs": [
        {
          "output_type": "stream",
          "name": "stdout",
          "text": [
            "Running experiment: 1\n",
            "Running experiment: 2\n",
            "Running experiment: 3\n",
            "Running experiment: 4\n",
            "Running experiment: 5\n",
            "Running experiment: 6\n",
            "Running experiment: 7\n",
            "Running experiment: 8\n",
            "Running experiment: 9\n",
            "Running experiment: 10\n",
            "Running experiment: 11\n",
            "Running experiment: 12\n",
            "Running experiment: 13\n",
            "Running experiment: 14\n",
            "Running experiment: 15\n",
            "Running experiment: 16\n",
            "Running experiment: 17\n",
            "Running experiment: 18\n",
            "Running experiment: 19\n",
            "Running experiment: 20\n",
            "Running experiment: 21\n",
            "Running experiment: 22\n",
            "Running experiment: 23\n",
            "Running experiment: 24\n",
            "Running experiment: 25\n",
            "Running experiment: 26\n",
            "Running experiment: 27\n",
            "Running experiment: 28\n",
            "Running experiment: 29\n",
            "Running experiment: 30\n",
            "Running experiment: 31\n",
            "Running experiment: 32\n",
            "Running experiment: 33\n",
            "Running experiment: 34\n",
            "Running experiment: 35\n",
            "Running experiment: 36\n",
            "Running experiment: 37\n",
            "Running experiment: 38\n",
            "Running experiment: 39\n",
            "Running experiment: 40\n",
            "Running experiment: 41\n",
            "Running experiment: 42\n",
            "Running experiment: 43\n",
            "Running experiment: 44\n",
            "Running experiment: 45\n",
            "Running experiment: 46\n",
            "Running experiment: 47\n",
            "Running experiment: 48\n",
            "Running experiment: 49\n",
            "Running experiment: 50\n"
          ]
        }
      ]
    },
    {
      "cell_type": "code",
      "source": [
        "exp_loss_nbrw = np.mean(np.array(losses_nbrw), axis = 0)"
      ],
      "metadata": {
        "id": "r9bSklEczuIA"
      },
      "execution_count": null,
      "outputs": []
    },
    {
      "cell_type": "code",
      "source": [
        "plt.plot(np.arange(200, 5000), (exp_loss_srw[200:5000]), label = 'SRW')\n",
        "plt.plot(np.arange(200, 5000), (exp_loss_nbrw[200:5000]), label = 'NBRW')\n",
        "plt.yscale('log')\n",
        "plt.legend()"
      ],
      "metadata": {
        "colab": {
          "base_uri": "https://localhost:8080/",
          "height": 447
        },
        "id": "RiosEsHYzi2L",
        "outputId": "e8cbd649-be8a-4455-e843-e3b1e2a545e3"
      },
      "execution_count": null,
      "outputs": [
        {
          "output_type": "execute_result",
          "data": {
            "text/plain": [
              "<matplotlib.legend.Legend at 0x7f1d9b1dd820>"
            ]
          },
          "metadata": {},
          "execution_count": 109
        },
        {
          "output_type": "display_data",
          "data": {
            "text/plain": [
              "<Figure size 640x480 with 1 Axes>"
            ],
            "image/png": "[encoded data removed]"
          },
          "metadata": {}
        }
      ]
    },
    {
      "cell_type": "markdown",
      "source": [
        "#### Uniform sampling"
      ],
      "metadata": {
        "id": "70zMYG4kcKqE"
      }
    },
    {
      "cell_type": "code",
      "source": [
        "\n",
        "losses_us = []\n",
        "\n",
        "num_expts = 50\n",
        "\n",
        "for expt in range(num_expts):\n",
        "\n",
        "  print(\"Running experiment:\", expt+1)\n",
        "\n",
        "\n",
        "  theta = np.random.rand(k, 1)\n",
        "\n",
        "  num_iter = int(1e5)\n",
        "\n",
        "  ep_loss = []\n",
        "\n",
        "  for i in range(1, num_iter + 1):\n",
        "\n",
        "    current_node = np.random.choice(np.arange(0, n))\n",
        "\n",
        "    if current_node < 31:\n",
        "      xi = x0[current_node].reshape(k, 1)\n",
        "      yi = 1\n",
        "    else:\n",
        "      xi = x1[current_node - 31].reshape(k, 1)\n",
        "      yi = -1\n",
        "\n",
        "    gamma = 1/(i**(0.9))\n",
        "\n",
        "    exp_term = np.exp(-yi*(xi.T @  theta))\n",
        "\n",
        "\n",
        "    grad_g = ( ((exp_term * (-yi) )/(1 + exp_term))*xi + 0.5*theta )\n",
        "\n",
        "    theta -= gamma * grad_g\n",
        "\n",
        "    ep_loss.append(np.linalg.norm(theta - theta_optim)**2)\n",
        "  \n",
        "  losses_us.append(ep_loss)"
      ],
      "metadata": {
        "colab": {
          "base_uri": "https://localhost:8080/"
        },
        "id": "SLBwIWiWczvv",
        "outputId": "981a635c-0a99-47d1-cc31-eefe17789bd9"
      },
      "execution_count": null,
      "outputs": [
        {
          "output_type": "stream",
          "name": "stdout",
          "text": [
            "Running experiment: 1\n",
            "Running experiment: 2\n",
            "Running experiment: 3\n",
            "Running experiment: 4\n",
            "Running experiment: 5\n",
            "Running experiment: 6\n",
            "Running experiment: 7\n",
            "Running experiment: 8\n",
            "Running experiment: 9\n",
            "Running experiment: 10\n",
            "Running experiment: 11\n",
            "Running experiment: 12\n",
            "Running experiment: 13\n",
            "Running experiment: 14\n",
            "Running experiment: 15\n",
            "Running experiment: 16\n",
            "Running experiment: 17\n",
            "Running experiment: 18\n",
            "Running experiment: 19\n",
            "Running experiment: 20\n",
            "Running experiment: 21\n",
            "Running experiment: 22\n",
            "Running experiment: 23\n",
            "Running experiment: 24\n",
            "Running experiment: 25\n",
            "Running experiment: 26\n",
            "Running experiment: 27\n",
            "Running experiment: 28\n",
            "Running experiment: 29\n",
            "Running experiment: 30\n",
            "Running experiment: 31\n",
            "Running experiment: 32\n",
            "Running experiment: 33\n",
            "Running experiment: 34\n",
            "Running experiment: 35\n",
            "Running experiment: 36\n",
            "Running experiment: 37\n",
            "Running experiment: 38\n",
            "Running experiment: 39\n",
            "Running experiment: 40\n",
            "Running experiment: 41\n",
            "Running experiment: 42\n",
            "Running experiment: 43\n",
            "Running experiment: 44\n",
            "Running experiment: 45\n",
            "Running experiment: 46\n",
            "Running experiment: 47\n",
            "Running experiment: 48\n",
            "Running experiment: 49\n",
            "Running experiment: 50\n"
          ]
        }
      ]
    },
    {
      "cell_type": "code",
      "source": [
        "exp_loss_us = np.mean(np.array(losses_us), axis = 0)\n"
      ],
      "metadata": {
        "id": "41flV-M-5kg2"
      },
      "execution_count": null,
      "outputs": []
    },
    {
      "cell_type": "code",
      "source": [
        "plt.plot(np.arange(0, num_iter), (exp_loss_srw), label = 'SRW')\n",
        "plt.plot(np.arange(0, num_iter), (exp_loss_nbrw), label = 'NBRW')\n",
        "plt.plot(np.arange(0, num_iter), (exp_loss_us), label = 'Uniform Sampling')\n",
        "plt.yscale('log')\n",
        "plt.legend()"
      ],
      "metadata": {
        "colab": {
          "base_uri": "https://localhost:8080/",
          "height": 447
        },
        "id": "tZGqlntt5rTz",
        "outputId": "5021de6e-5ad8-428f-e6c6-c4d0a1b30b76"
      },
      "execution_count": null,
      "outputs": [
        {
          "output_type": "execute_result",
          "data": {
            "text/plain": [
              "<matplotlib.legend.Legend at 0x7f1d9b1fe3a0>"
            ]
          },
          "metadata": {},
          "execution_count": 113
        },
        {
          "output_type": "display_data",
          "data": {
            "text/plain": [
              "<Figure size 640x480 with 1 Axes>"
            ],
            "image/png": "[encoded data removed]"
          },
          "metadata": {}
        }
      ]
    },
    {
      "cell_type": "markdown",
      "source": [
        "#### Single shuffling"
      ],
      "metadata": {
        "id": "hvMgRd16dVaZ"
      }
    },
    {
      "cell_type": "code",
      "source": [
        "losses_ss = []\n",
        "\n",
        "num_expts = 50\n",
        "\n",
        "for expt in range(num_expts):\n",
        "\n",
        "  print(\"Running experiment:\", expt+1)\n",
        "\n",
        "  node_perm = np.random.permutation(np.arange(0, n))\n",
        "\n",
        "  theta = np.random.rand(k, 1)\n",
        "\n",
        "  num_iter = int(1e5)\n",
        "\n",
        "  ep_loss = []\n",
        "\n",
        "  for i in range(1, num_iter + 1):\n",
        "\n",
        "    current_node = node_perm[(i-1)%n]\n",
        "\n",
        "    if current_node < 31:\n",
        "      xi = x0[current_node].reshape(k, 1)\n",
        "      yi = 1\n",
        "    else:\n",
        "      xi = x1[current_node - 31].reshape(k, 1)\n",
        "      yi = -1\n",
        "\n",
        "    gamma = 1/(i**(0.9))\n",
        "\n",
        "    exp_term = np.exp(-yi*(xi.T @  theta))\n",
        "\n",
        "\n",
        "    grad_g = ( ((exp_term * (-yi) )/(1 + exp_term))*xi + 0.5*theta )\n",
        "\n",
        "    theta -= gamma * grad_g\n",
        "\n",
        "    ep_loss.append(np.linalg.norm(theta - theta_optim)**2)\n",
        "\n",
        "  losses_ss.append(ep_loss)"
      ],
      "metadata": {
        "colab": {
          "base_uri": "https://localhost:8080/"
        },
        "id": "pBJcRKsGduey",
        "outputId": "84c78249-3eaa-41f3-dcbd-a0f8277b4d6d"
      },
      "execution_count": null,
      "outputs": [
        {
          "output_type": "stream",
          "name": "stdout",
          "text": [
            "Running experiment: 1\n",
            "Running experiment: 2\n",
            "Running experiment: 3\n",
            "Running experiment: 4\n",
            "Running experiment: 5\n",
            "Running experiment: 6\n",
            "Running experiment: 7\n",
            "Running experiment: 8\n",
            "Running experiment: 9\n",
            "Running experiment: 10\n",
            "Running experiment: 11\n",
            "Running experiment: 12\n",
            "Running experiment: 13\n",
            "Running experiment: 14\n",
            "Running experiment: 15\n",
            "Running experiment: 16\n",
            "Running experiment: 17\n",
            "Running experiment: 18\n",
            "Running experiment: 19\n",
            "Running experiment: 20\n",
            "Running experiment: 21\n",
            "Running experiment: 22\n",
            "Running experiment: 23\n",
            "Running experiment: 24\n",
            "Running experiment: 25\n",
            "Running experiment: 26\n",
            "Running experiment: 27\n",
            "Running experiment: 28\n",
            "Running experiment: 29\n",
            "Running experiment: 30\n",
            "Running experiment: 31\n",
            "Running experiment: 32\n",
            "Running experiment: 33\n",
            "Running experiment: 34\n",
            "Running experiment: 35\n",
            "Running experiment: 36\n",
            "Running experiment: 37\n",
            "Running experiment: 38\n",
            "Running experiment: 39\n",
            "Running experiment: 40\n",
            "Running experiment: 41\n",
            "Running experiment: 42\n",
            "Running experiment: 43\n",
            "Running experiment: 44\n",
            "Running experiment: 45\n",
            "Running experiment: 46\n",
            "Running experiment: 47\n",
            "Running experiment: 48\n",
            "Running experiment: 49\n",
            "Running experiment: 50\n"
          ]
        }
      ]
    },
    {
      "cell_type": "code",
      "source": [
        "exp_loss_ss = np.mean(np.array(losses_ss), axis = 0)"
      ],
      "metadata": {
        "id": "Zhe87TBe7KqH"
      },
      "execution_count": null,
      "outputs": []
    },
    {
      "cell_type": "code",
      "source": [
        "plt.plot(np.arange(0, num_iter), (exp_loss_srw), label = 'SRW')\n",
        "plt.plot(np.arange(0, num_iter), (exp_loss_nbrw), label = 'NBRW')\n",
        "plt.plot(np.arange(0, num_iter), (exp_loss_us), label = 'Uniform Sampling')\n",
        "plt.plot(np.arange(0, num_iter), (exp_loss_ss), label = 'Single Shuffling')\n",
        "plt.yscale('log')\n",
        "plt.legend()"
      ],
      "metadata": {
        "colab": {
          "base_uri": "https://localhost:8080/",
          "height": 447
        },
        "id": "zMPtzbAp7Mx1",
        "outputId": "610414ca-00d8-47f6-ad9f-c141b6d5d888"
      },
      "execution_count": null,
      "outputs": [
        {
          "output_type": "execute_result",
          "data": {
            "text/plain": [
              "<matplotlib.legend.Legend at 0x7f1d87969a60>"
            ]
          },
          "metadata": {},
          "execution_count": 116
        },
        {
          "output_type": "display_data",
          "data": {
            "text/plain": [
              "<Figure size 640x480 with 1 Axes>"
            ],
            "image/png": "[encoded data removed]"
          },
          "metadata": {}
        }
      ]
    },
    {
      "cell_type": "markdown",
      "source": [
        "#### Random shuffling"
      ],
      "metadata": {
        "id": "BqdxQJYLfE0o"
      }
    },
    {
      "cell_type": "code",
      "source": [
        "losses_rs = []\n",
        "\n",
        "num_expts = 50\n",
        "\n",
        "for expt in range(num_expts):\n",
        "\n",
        "  print(\"Running experiment:\", expt+1)\n",
        "\n",
        "  theta = np.random.rand(k, 1)\n",
        "\n",
        "  num_iter = int(1e5)\n",
        "\n",
        "  ep_loss = []\n",
        "\n",
        "  for i in range(1, num_iter + 1):\n",
        "\n",
        "    if (i-1)%n == 0:\n",
        "      node_perm = np.random.permutation(np.arange(0, n))\n",
        "\n",
        "    current_node = node_perm[(i-1)%n]\n",
        "\n",
        "    if current_node < 31:\n",
        "      xi = x0[current_node].reshape(k, 1)\n",
        "      yi = 1\n",
        "    else:\n",
        "      xi = x1[current_node - 31].reshape(k, 1)\n",
        "      yi = -1\n",
        "\n",
        "    gamma = 1/(i**(0.9))\n",
        "\n",
        "    exp_term = np.exp(-yi*(xi.T @  theta))\n",
        "\n",
        "\n",
        "    grad_g = ( ((exp_term * (-yi) )/(1 + exp_term))*xi + 0.5*theta )\n",
        "\n",
        "    theta -= gamma * grad_g\n",
        "\n",
        "    ep_loss.append(np.linalg.norm(theta - theta_optim)**2)\n",
        "\n",
        "  losses_rs.append(ep_loss)"
      ],
      "metadata": {
        "colab": {
          "base_uri": "https://localhost:8080/"
        },
        "id": "dPDTORci8EyB",
        "outputId": "ccac172f-8c90-47ee-98d1-bb9b4c13f5cd"
      },
      "execution_count": null,
      "outputs": [
        {
          "output_type": "stream",
          "name": "stdout",
          "text": [
            "Running experiment: 1\n",
            "Running experiment: 2\n",
            "Running experiment: 3\n",
            "Running experiment: 4\n",
            "Running experiment: 5\n",
            "Running experiment: 6\n",
            "Running experiment: 7\n",
            "Running experiment: 8\n",
            "Running experiment: 9\n",
            "Running experiment: 10\n",
            "Running experiment: 11\n",
            "Running experiment: 12\n",
            "Running experiment: 13\n",
            "Running experiment: 14\n",
            "Running experiment: 15\n",
            "Running experiment: 16\n",
            "Running experiment: 17\n",
            "Running experiment: 18\n",
            "Running experiment: 19\n",
            "Running experiment: 20\n",
            "Running experiment: 21\n",
            "Running experiment: 22\n",
            "Running experiment: 23\n",
            "Running experiment: 24\n",
            "Running experiment: 25\n",
            "Running experiment: 26\n",
            "Running experiment: 27\n",
            "Running experiment: 28\n",
            "Running experiment: 29\n",
            "Running experiment: 30\n",
            "Running experiment: 31\n",
            "Running experiment: 32\n",
            "Running experiment: 33\n",
            "Running experiment: 34\n",
            "Running experiment: 35\n",
            "Running experiment: 36\n",
            "Running experiment: 37\n",
            "Running experiment: 38\n",
            "Running experiment: 39\n",
            "Running experiment: 40\n",
            "Running experiment: 41\n",
            "Running experiment: 42\n",
            "Running experiment: 43\n",
            "Running experiment: 44\n",
            "Running experiment: 45\n",
            "Running experiment: 46\n",
            "Running experiment: 47\n",
            "Running experiment: 48\n",
            "Running experiment: 49\n",
            "Running experiment: 50\n"
          ]
        }
      ]
    },
    {
      "cell_type": "code",
      "source": [
        "exp_loss_rs = np.mean(np.array(losses_rs), axis = 0)"
      ],
      "metadata": {
        "id": "NlSClU8M8tnr"
      },
      "execution_count": null,
      "outputs": []
    },
    {
      "cell_type": "code",
      "source": [
        "plt.plot(np.arange(1001, num_iter+1), (exp_loss_srw[1000:]), label = 'SRW')\n",
        "plt.plot(np.arange(1001, num_iter+1), (exp_loss_nbrw[1000:]), label = 'NBRW')\n",
        "plt.plot(np.arange(1001, num_iter+1), (exp_loss_us[1000:]), label = 'Uniform Sampling')\n",
        "plt.plot(np.arange(1001, num_iter+1), (exp_loss_ss[1000:]), label = 'Single Shuffling')\n",
        "plt.plot(np.arange(1001, num_iter+1), (exp_loss_rs[1000:]), label = 'Random Shuffling')\n",
        "#plt.yscale('log')\n",
        "plt.title(r\"Loss: $\\tilde{f}(\\theta)$\")\n",
        "plt.ylabel(r\"$\\mathbb{E}||\\theta_t - \\theta^*||^2_2$\")\n",
        "plt.xlabel(\"No: of iterations\")\n",
        "plt.legend()\n",
        "plt.savefig(\"drive/MyDrive/EE5111/logistic_loss.eps\", format='eps', bbox_inches = 'tight')"
      ],
      "metadata": {
        "colab": {
          "base_uri": "https://localhost:8080/",
          "height": 495
        },
        "id": "STAArVCr8xGg",
        "outputId": "8832e61c-b250-401a-e88d-dd226c951518"
      },
      "execution_count": null,
      "outputs": [
        {
          "output_type": "stream",
          "name": "stderr",
          "text": [
            "WARNING:matplotlib.backends.backend_ps:The PostScript backend does not support transparency; partially transparent artists will be rendered opaque.\n"
          ]
        },
        {
          "output_type": "display_data",
          "data": {
            "text/plain": [
              "<Figure size 640x480 with 1 Axes>"
            ],
            "image/png": "[encoded data removed]"
          },
          "metadata": {}
        }
      ]
    },
    {
      "cell_type": "code",
      "source": [],
      "metadata": {
        "id": "fnqXyakwu2gf"
      },
      "execution_count": null,
      "outputs": []
    },
    {
      "cell_type": "code",
      "source": [
        "gammas = [(1/(x**(0.9))) for x in range(1, num_iter+1)]"
      ],
      "metadata": {
        "id": "q0lu7-6sBHmC"
      },
      "execution_count": null,
      "outputs": []
    },
    {
      "cell_type": "code",
      "source": [
        "plt.plot(np.arange(1001, num_iter+1), (exp_loss_srw[1000:]/gammas[1000:]), label = 'SRW')\n",
        "plt.plot(np.arange(1001, num_iter+1), (exp_loss_nbrw[1000:]/gammas[1000:]), label = 'NBRW')\n",
        "plt.plot(np.arange(1001, num_iter+1), (exp_loss_us[1000:]/gammas[1000:]), label = 'Uniform Sampling')\n",
        "plt.plot(np.arange(1001, num_iter+1), (exp_loss_ss[1000:]/gammas[1000:]), label = 'Single Shuffling')\n",
        "plt.plot(np.arange(1001, num_iter+1), (exp_loss_rs[1000:]/gammas[1000:]), label = 'Random Shuffling')\n",
        "plt.yscale('log')\n",
        "plt.title(r\"Loss: $\\tilde{f}(\\theta)$\")\n",
        "plt.ylabel(r\"$\\mathbb{E}||\\theta_t - \\theta^*||^2_2 / \\gamma_t$ (log-scale) \")\n",
        "plt.xlabel(\"No: of iterations\")\n",
        "plt.legend()\n",
        "plt.savefig(\"drive/MyDrive/EE5111/logistic_loss_gamma.eps\", format='eps', bbox_inches = 'tight')"
      ],
      "metadata": {
        "colab": {
          "base_uri": "https://localhost:8080/",
          "height": 495
        },
        "id": "bNYWs4Vp81ya",
        "outputId": "93e37ff1-85e3-4d64-fa1a-6b08d9a1d7a3"
      },
      "execution_count": null,
      "outputs": [
        {
          "output_type": "stream",
          "name": "stderr",
          "text": [
            "WARNING:matplotlib.backends.backend_ps:The PostScript backend does not support transparency; partially transparent artists will be rendered opaque.\n"
          ]
        },
        {
          "output_type": "display_data",
          "data": {
            "text/plain": [
              "<Figure size 640x480 with 1 Axes>"
            ],
            "image/png": "[encoded data removed]"
          },
          "metadata": {}
        }
      ]
    },
    {
      "cell_type": "code",
      "source": [],
      "metadata": {
        "id": "EFIDrNtWBtur"
      },
      "execution_count": null,
      "outputs": []
    }
  ]
}