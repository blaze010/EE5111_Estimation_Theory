{
  "nbformat": 4,
  "nbformat_minor": 0,
  "metadata": {
    "colab": {
      "provenance": []
    },
    "kernelspec": {
      "name": "python3",
      "display_name": "Python 3"
    },
    "language_info": {
      "name": "python"
    }
  },
  "cells": [
    {
      "cell_type": "markdown",
      "source": [
        "## Economics graph"
      ],
      "metadata": {
        "id": "6k2UlMoEVSQ_"
      }
    },
    {
      "cell_type": "markdown",
      "source": [
        "- Download the .mtx graph file from https://networkrepository.com/soc-dolphins.php. \n",
        "- This file essentially is a matrix file depicting the edges of the graph."
      ],
      "metadata": {
        "id": "rvdJeZMWWleY"
      }
    },
    {
      "cell_type": "code",
      "source": [
        "import numpy as np\n",
        "\n",
        "dolphins = np.zeros((242, 242))\n",
        "\n",
        "file1 = open('drive/MyDrive/EE5111/bn-macaque-rhesus_brain_1.edges', 'r')\n",
        "Lines = file1.readlines()\n",
        "\n",
        "for line in Lines:\n",
        "  dolphins[int(line.split()[0]), int(line.split()[1])] = 1\n"
      ],
      "metadata": {
        "id": "MtKCuBHLVZD6"
      },
      "execution_count": null,
      "outputs": []
    },
    {
      "cell_type": "code",
      "source": [
        "dolphins[0]"
      ],
      "metadata": {
        "colab": {
          "base_uri": "https://localhost:8080/"
        },
        "id": "DseMdwu_V5Sa",
        "outputId": "9446797d-5f09-4958-9921-c7dae2f3a465"
      },
      "execution_count": null,
      "outputs": [
        {
          "output_type": "execute_result",
          "data": {
            "text/plain": [
              "array([0., 1., 1., 1., 1., 1., 1., 1., 1., 1., 1., 1., 1., 1., 1., 1., 0.,\n",
              "       1., 0., 0., 1., 0., 1., 1., 1., 1., 0., 0., 0., 1., 1., 0., 1., 1.,\n",
              "       0., 1., 1., 0., 0., 1., 0., 0., 1., 1., 0., 0., 0., 0., 1., 0., 0.,\n",
              "       1., 1., 0., 0., 1., 1., 0., 0., 0., 0., 0., 0., 0., 0., 0., 0., 1.,\n",
              "       0., 0., 0., 0., 0., 1., 1., 1., 0., 1., 0., 1., 0., 0., 0., 0., 0.,\n",
              "       0., 0., 0., 0., 0., 0., 0., 0., 0., 0., 0., 0., 0., 0., 0., 0., 0.,\n",
              "       0., 0., 0., 0., 0., 0., 0., 0., 0., 0., 0., 1., 0., 0., 0., 0., 0.,\n",
              "       0., 1., 0., 0., 0., 0., 1., 0., 0., 0., 0., 0., 0., 0., 0., 0., 1.,\n",
              "       0., 0., 0., 0., 0., 0., 0., 0., 0., 0., 0., 0., 0., 0., 0., 0., 0.,\n",
              "       0., 0., 0., 0., 0., 0., 0., 0., 0., 0., 1., 0., 0., 0., 0., 0., 0.,\n",
              "       0., 0., 0., 0., 0., 0., 0., 0., 0., 0., 0., 0., 0., 0., 0., 0., 0.,\n",
              "       0., 0., 0., 0., 0., 0., 0., 0., 0., 0., 0., 0., 0., 0., 0., 0., 0.,\n",
              "       0., 0., 0., 0., 0., 0., 0., 0., 0., 0., 0., 0., 0., 0., 0., 0., 0.,\n",
              "       0., 0., 0., 0., 0., 0., 0., 0., 0., 0., 0., 0., 0., 0., 0., 0., 0.,\n",
              "       0., 0., 0., 0.])"
            ]
          },
          "metadata": {},
          "execution_count": 4
        }
      ]
    },
    {
      "cell_type": "markdown",
      "source": [
        "The graph has 242 nodes."
      ],
      "metadata": {
        "id": "8-wDkmwRW1v2"
      }
    },
    {
      "cell_type": "markdown",
      "source": [
        "1 represents the presence of an edge, 0 represents the absence of an edge"
      ],
      "metadata": {
        "id": "6AX4zIchWjTx"
      }
    },
    {
      "cell_type": "markdown",
      "source": [
        "## Transition matrix for simple random walk"
      ],
      "metadata": {
        "id": "-WyHz80EW71-"
      }
    },
    {
      "cell_type": "code",
      "source": [
        "import numpy as np"
      ],
      "metadata": {
        "id": "a6od9GZjX4se"
      },
      "execution_count": null,
      "outputs": []
    },
    {
      "cell_type": "code",
      "source": [
        "def gen_srw_transition(graph):\n",
        "\n",
        "  vertices = graph.shape[0]\n",
        "  trans_mtx = np.zeros((vertices, vertices))\n",
        "  degrees = []\n",
        "\n",
        "  for i in range(vertices):\n",
        "    total_edges = np.sum(graph[i, :])\n",
        "    degrees.append(total_edges)\n",
        "    trans_mtx[i, :] = graph[i, :]/total_edges\n",
        "  \n",
        "  return trans_mtx, degrees"
      ],
      "metadata": {
        "id": "w3T6XL-pXI8g"
      },
      "execution_count": null,
      "outputs": []
    },
    {
      "cell_type": "code",
      "source": [
        "srw_mtx, d = gen_srw_transition(dolphins)"
      ],
      "metadata": {
        "id": "QqX6PQwAXzDD"
      },
      "execution_count": null,
      "outputs": []
    },
    {
      "cell_type": "code",
      "source": [
        "srw_mtx[0]"
      ],
      "metadata": {
        "colab": {
          "base_uri": "https://localhost:8080/"
        },
        "id": "99jgURRShixG",
        "outputId": "48d095d8-bdd6-4334-e9f7-071629ad61b0"
      },
      "execution_count": null,
      "outputs": [
        {
          "output_type": "execute_result",
          "data": {
            "text/plain": [
              "array([0.        , 0.02173913, 0.02173913, 0.02173913, 0.02173913,\n",
              "       0.02173913, 0.02173913, 0.02173913, 0.02173913, 0.02173913,\n",
              "       0.02173913, 0.02173913, 0.02173913, 0.02173913, 0.02173913,\n",
              "       0.02173913, 0.        , 0.02173913, 0.        , 0.        ,\n",
              "       0.02173913, 0.        , 0.02173913, 0.02173913, 0.02173913,\n",
              "       0.02173913, 0.        , 0.        , 0.        , 0.02173913,\n",
              "       0.02173913, 0.        , 0.02173913, 0.02173913, 0.        ,\n",
              "       0.02173913, 0.02173913, 0.        , 0.        , 0.02173913,\n",
              "       0.        , 0.        , 0.02173913, 0.02173913, 0.        ,\n",
              "       0.        , 0.        , 0.        , 0.02173913, 0.        ,\n",
              "       0.        , 0.02173913, 0.02173913, 0.        , 0.        ,\n",
              "       0.02173913, 0.02173913, 0.        , 0.        , 0.        ,\n",
              "       0.        , 0.        , 0.        , 0.        , 0.        ,\n",
              "       0.        , 0.        , 0.02173913, 0.        , 0.        ,\n",
              "       0.        , 0.        , 0.        , 0.02173913, 0.02173913,\n",
              "       0.02173913, 0.        , 0.02173913, 0.        , 0.02173913,\n",
              "       0.        , 0.        , 0.        , 0.        , 0.        ,\n",
              "       0.        , 0.        , 0.        , 0.        , 0.        ,\n",
              "       0.        , 0.        , 0.        , 0.        , 0.        ,\n",
              "       0.        , 0.        , 0.        , 0.        , 0.        ,\n",
              "       0.        , 0.        , 0.        , 0.        , 0.        ,\n",
              "       0.        , 0.        , 0.        , 0.        , 0.        ,\n",
              "       0.        , 0.        , 0.        , 0.02173913, 0.        ,\n",
              "       0.        , 0.        , 0.        , 0.        , 0.        ,\n",
              "       0.02173913, 0.        , 0.        , 0.        , 0.        ,\n",
              "       0.02173913, 0.        , 0.        , 0.        , 0.        ,\n",
              "       0.        , 0.        , 0.        , 0.        , 0.        ,\n",
              "       0.02173913, 0.        , 0.        , 0.        , 0.        ,\n",
              "       0.        , 0.        , 0.        , 0.        , 0.        ,\n",
              "       0.        , 0.        , 0.        , 0.        , 0.        ,\n",
              "       0.        , 0.        , 0.        , 0.        , 0.        ,\n",
              "       0.        , 0.        , 0.        , 0.        , 0.        ,\n",
              "       0.        , 0.        , 0.        , 0.02173913, 0.        ,\n",
              "       0.        , 0.        , 0.        , 0.        , 0.        ,\n",
              "       0.        , 0.        , 0.        , 0.        , 0.        ,\n",
              "       0.        , 0.        , 0.        , 0.        , 0.        ,\n",
              "       0.        , 0.        , 0.        , 0.        , 0.        ,\n",
              "       0.        , 0.        , 0.        , 0.        , 0.        ,\n",
              "       0.        , 0.        , 0.        , 0.        , 0.        ,\n",
              "       0.        , 0.        , 0.        , 0.        , 0.        ,\n",
              "       0.        , 0.        , 0.        , 0.        , 0.        ,\n",
              "       0.        , 0.        , 0.        , 0.        , 0.        ,\n",
              "       0.        , 0.        , 0.        , 0.        , 0.        ,\n",
              "       0.        , 0.        , 0.        , 0.        , 0.        ,\n",
              "       0.        , 0.        , 0.        , 0.        , 0.        ,\n",
              "       0.        , 0.        , 0.        , 0.        , 0.        ,\n",
              "       0.        , 0.        , 0.        , 0.        , 0.        ,\n",
              "       0.        , 0.        , 0.        , 0.        , 0.        ,\n",
              "       0.        , 0.        ])"
            ]
          },
          "metadata": {},
          "execution_count": 8
        }
      ]
    },
    {
      "cell_type": "code",
      "source": [
        "sum(d)"
      ],
      "metadata": {
        "colab": {
          "base_uri": "https://localhost:8080/"
        },
        "id": "3Yc-nMhYfyvZ",
        "outputId": "4c1dc426-dd60-407d-83ac-0e13341534a1"
      },
      "execution_count": null,
      "outputs": [
        {
          "output_type": "execute_result",
          "data": {
            "text/plain": [
              "4090.0"
            ]
          },
          "metadata": {},
          "execution_count": 9
        }
      ]
    },
    {
      "cell_type": "markdown",
      "source": [
        "## Sum of non-convex functions"
      ],
      "metadata": {
        "id": "3mAN0Cp8X3XW"
      }
    },
    {
      "cell_type": "code",
      "source": [
        "# No: of datapoints\n",
        "n = 242\n",
        "\n",
        "# Dimension of paramater vector\n",
        "k = 10\n",
        "\n",
        "a_sum = np.zeros((k, k))\n",
        "A = np.zeros((k, n))\n",
        "\n",
        "for i in range(n):\n",
        "  a = np.random.rand(k)\n",
        "  A[:, i] = a\n",
        "  a_sum += (a.reshape(k, 1) @ a.reshape(1, k))\n",
        "\n",
        "a_sum /= n\n",
        "\n",
        "try:\n",
        "  print(np.linalg.inv(a_sum))\n",
        "  print(\"Inverse exists\")\n",
        "except:\n",
        "  print(\"Failed!\")\n",
        "\n",
        "D = np.zeros((k, k, n))\n",
        "\n",
        "for i in range(k):\n",
        "  D[i, i, :(n//2)] = 1.1\n",
        "  D[i, i, (n//2):] = -1.1\n",
        "\n",
        "b = np.random.rand(k, 1)\n",
        "\n",
        "\n"
      ],
      "metadata": {
        "id": "FH2JU35SX81t",
        "colab": {
          "base_uri": "https://localhost:8080/"
        },
        "outputId": "f53d74cd-6ff7-49c1-fd24-9af4c3be12c5"
      },
      "execution_count": null,
      "outputs": [
        {
          "output_type": "stream",
          "name": "stdout",
          "text": [
            "[[11.69546269 -1.01123195 -1.46432688 -0.28458392 -3.46601742 -1.49523946\n",
            "  -1.23123778 -1.20140449 -0.39007068 -1.27250468]\n",
            " [-1.01123195 10.77554434 -1.61614636 -1.08765905 -1.23422968 -1.62031169\n",
            "   0.14460814 -1.07626114 -1.71132114 -0.92269566]\n",
            " [-1.46432688 -1.61614636 10.7743962  -1.40031363  0.74749428 -1.60297677\n",
            "  -1.39978453 -1.14017206 -0.63849871 -1.26053154]\n",
            " [-0.28458392 -1.08765905 -1.40031363 10.80142203 -0.24031276 -1.20713461\n",
            "  -1.16454065 -1.95691778 -0.69087122 -1.8831776 ]\n",
            " [-3.46601742 -1.23422968  0.74749428 -0.24031276 11.57189339 -1.64563692\n",
            "  -0.96849329 -1.73016601 -1.18046955 -1.45085099]\n",
            " [-1.49523946 -1.62031169 -1.60297677 -1.20713461 -1.64563692 10.73698625\n",
            "  -1.71625808 -0.77849322 -0.87251283  0.6518242 ]\n",
            " [-1.23123778  0.14460814 -1.39978453 -1.16454065 -0.96849329 -1.71625808\n",
            "  12.05914286 -1.20414772 -2.50380427 -2.09430559]\n",
            " [-1.20140449 -1.07626114 -1.14017206 -1.95691778 -1.73016601 -0.77849322\n",
            "  -1.20414772 11.0651918  -1.74525409 -0.507793  ]\n",
            " [-0.39007068 -1.71132114 -0.63849871 -0.69087122 -1.18046955 -0.87251283\n",
            "  -2.50380427 -1.74525409 11.5243261  -1.11366855]\n",
            " [-1.27250468 -0.92269566 -1.26053154 -1.8831776  -1.45085099  0.6518242\n",
            "  -2.09430559 -0.507793   -1.11366855 10.24797702]]\n",
            "Inverse exists\n"
          ]
        }
      ]
    },
    {
      "cell_type": "code",
      "source": [
        "theta_optim = -0.5*( np.linalg.inv(a_sum) @ b )"
      ],
      "metadata": {
        "id": "7ThBLKcJecm0"
      },
      "execution_count": null,
      "outputs": []
    },
    {
      "cell_type": "code",
      "source": [
        "theta_optim"
      ],
      "metadata": {
        "colab": {
          "base_uri": "https://localhost:8080/"
        },
        "id": "aR5a3kNajDIl",
        "outputId": "4cb5e5ca-cd6f-42e0-c919-fe176273d912"
      },
      "execution_count": null,
      "outputs": [
        {
          "output_type": "execute_result",
          "data": {
            "text/plain": [
              "array([[-1.67217187],\n",
              "       [-0.83966925],\n",
              "       [-0.88762965],\n",
              "       [ 0.69301875],\n",
              "       [ 0.86557343],\n",
              "       [-1.29707623],\n",
              "       [ 2.93073643],\n",
              "       [-0.97464347],\n",
              "       [ 0.50331288],\n",
              "       [-0.65438915]])"
            ]
          },
          "metadata": {},
          "execution_count": 12
        }
      ]
    },
    {
      "cell_type": "code",
      "source": [
        "def fun(x):\n",
        "  x = x.reshape(k, 1)\n",
        "  return x.T @ a_sum @ x + b.T @ x"
      ],
      "metadata": {
        "id": "OICL4C7mkW70"
      },
      "execution_count": null,
      "outputs": []
    },
    {
      "cell_type": "code",
      "source": [
        "from scipy.optimize import minimize"
      ],
      "metadata": {
        "id": "HDWk-W61koAh"
      },
      "execution_count": null,
      "outputs": []
    },
    {
      "cell_type": "code",
      "source": [
        "test = minimize(fun, np.random.rand(k))"
      ],
      "metadata": {
        "id": "6_eK2mRWkltW"
      },
      "execution_count": null,
      "outputs": []
    },
    {
      "cell_type": "code",
      "source": [
        "test"
      ],
      "metadata": {
        "colab": {
          "base_uri": "https://localhost:8080/"
        },
        "id": "LebntlnCk06x",
        "outputId": "213d7e75-1143-4d4f-8d0b-1cd2807032ad"
      },
      "execution_count": null,
      "outputs": [
        {
          "output_type": "execute_result",
          "data": {
            "text/plain": [
              "  message: Optimization terminated successfully.\n",
              "  success: True\n",
              "   status: 0\n",
              "      fun: -1.8012968016677433\n",
              "        x: [-1.672e+00 -8.397e-01 -8.876e-01  6.930e-01  8.656e-01\n",
              "            -1.297e+00  2.931e+00 -9.746e-01  5.033e-01 -6.544e-01]\n",
              "      nit: 21\n",
              "      jac: [-5.409e-06 -4.753e-06 -3.844e-06 -5.275e-06 -9.075e-06\n",
              "            -7.585e-06 -5.752e-06 -4.783e-06 -6.378e-06 -6.512e-06]\n",
              " hess_inv: [[ 4.678e+00  4.280e-01 ...  4.884e-01 -7.554e-01]\n",
              "            [ 4.280e-01  2.253e+00 ... -1.120e+00 -8.174e-01]\n",
              "            ...\n",
              "            [ 4.884e-01 -1.120e+00 ...  2.258e+00  1.624e-01]\n",
              "            [-7.554e-01 -8.174e-01 ...  1.624e-01  3.344e+00]]\n",
              "     nfev: 242\n",
              "     njev: 22"
            ]
          },
          "metadata": {},
          "execution_count": 16
        }
      ]
    },
    {
      "cell_type": "markdown",
      "source": [
        "### Performing SGD"
      ],
      "metadata": {
        "id": "TF7M-b_CYVGu"
      }
    },
    {
      "cell_type": "code",
      "source": [
        "import matplotlib.pyplot as plt"
      ],
      "metadata": {
        "id": "GUp6XQOQjPet"
      },
      "execution_count": null,
      "outputs": []
    },
    {
      "cell_type": "code",
      "source": [
        "\n",
        "\n",
        "losses = []\n",
        "\n",
        "num_expts = 100\n",
        "\n",
        "for expt in range(num_expts):\n",
        "\n",
        "  print(\"Running experiment:\", expt+1)\n",
        "\n",
        "  ep_loss = []\n",
        "\n",
        "  theta = np.random.rand(k, 1)\n",
        "\n",
        "  num_iter = int(1e5)\n",
        "\n",
        "  current_node = np.random.choice(np.arange(0, n))\n",
        "\n",
        "  for i in range(1, num_iter + 1):\n",
        "\n",
        "    a_i = A[:, current_node].reshape(k, 1)\n",
        "    D_i = D[:, :, current_node].reshape(k, k)\n",
        "\n",
        "    gamma = 1/(i**(0.9))\n",
        "\n",
        "    grad_g = (sum(d)/(n*d[current_node]))*(2*( (a_i @ (a_i.T) + D_i) @ theta) + b)\n",
        "\n",
        "    theta -= gamma * grad_g\n",
        "\n",
        "    current_node = np.random.choice(np.arange(0, n), p = srw_mtx[current_node].reshape(n))  \n",
        "\n",
        "    ep_loss.append(np.linalg.norm(theta - theta_optim)**2)\n",
        "  \n",
        "  losses.append(ep_loss)\n",
        "\n",
        "\n"
      ],
      "metadata": {
        "colab": {
          "base_uri": "https://localhost:8080/"
        },
        "id": "8nk9q0bUbsD4",
        "outputId": "8c1f8b92-5a2e-4615-eeb4-e27343b94cfc"
      },
      "execution_count": null,
      "outputs": [
        {
          "output_type": "stream",
          "name": "stdout",
          "text": [
            "Running experiment: 1\n",
            "Running experiment: 2\n",
            "Running experiment: 3\n",
            "Running experiment: 4\n",
            "Running experiment: 5\n",
            "Running experiment: 6\n",
            "Running experiment: 7\n",
            "Running experiment: 8\n",
            "Running experiment: 9\n",
            "Running experiment: 10\n",
            "Running experiment: 11\n",
            "Running experiment: 12\n",
            "Running experiment: 13\n",
            "Running experiment: 14\n",
            "Running experiment: 15\n",
            "Running experiment: 16\n",
            "Running experiment: 17\n",
            "Running experiment: 18\n",
            "Running experiment: 19\n",
            "Running experiment: 20\n",
            "Running experiment: 21\n",
            "Running experiment: 22\n",
            "Running experiment: 23\n",
            "Running experiment: 24\n",
            "Running experiment: 25\n",
            "Running experiment: 26\n",
            "Running experiment: 27\n",
            "Running experiment: 28\n",
            "Running experiment: 29\n",
            "Running experiment: 30\n",
            "Running experiment: 31\n",
            "Running experiment: 32\n",
            "Running experiment: 33\n",
            "Running experiment: 34\n",
            "Running experiment: 35\n",
            "Running experiment: 36\n",
            "Running experiment: 37\n",
            "Running experiment: 38\n",
            "Running experiment: 39\n",
            "Running experiment: 40\n",
            "Running experiment: 41\n",
            "Running experiment: 42\n",
            "Running experiment: 43\n",
            "Running experiment: 44\n",
            "Running experiment: 45\n",
            "Running experiment: 46\n",
            "Running experiment: 47\n",
            "Running experiment: 48\n",
            "Running experiment: 49\n",
            "Running experiment: 50\n",
            "Running experiment: 51\n",
            "Running experiment: 52\n",
            "Running experiment: 53\n",
            "Running experiment: 54\n",
            "Running experiment: 55\n",
            "Running experiment: 56\n",
            "Running experiment: 57\n",
            "Running experiment: 58\n",
            "Running experiment: 59\n",
            "Running experiment: 60\n",
            "Running experiment: 61\n",
            "Running experiment: 62\n",
            "Running experiment: 63\n",
            "Running experiment: 64\n",
            "Running experiment: 65\n",
            "Running experiment: 66\n",
            "Running experiment: 67\n",
            "Running experiment: 68\n",
            "Running experiment: 69\n",
            "Running experiment: 70\n",
            "Running experiment: 71\n",
            "Running experiment: 72\n",
            "Running experiment: 73\n",
            "Running experiment: 74\n",
            "Running experiment: 75\n",
            "Running experiment: 76\n",
            "Running experiment: 77\n",
            "Running experiment: 78\n",
            "Running experiment: 79\n",
            "Running experiment: 80\n",
            "Running experiment: 81\n",
            "Running experiment: 82\n",
            "Running experiment: 83\n",
            "Running experiment: 84\n",
            "Running experiment: 85\n",
            "Running experiment: 86\n",
            "Running experiment: 87\n",
            "Running experiment: 88\n",
            "Running experiment: 89\n",
            "Running experiment: 90\n",
            "Running experiment: 91\n",
            "Running experiment: 92\n",
            "Running experiment: 93\n",
            "Running experiment: 94\n",
            "Running experiment: 95\n",
            "Running experiment: 96\n",
            "Running experiment: 97\n",
            "Running experiment: 98\n",
            "Running experiment: 99\n",
            "Running experiment: 100\n"
          ]
        }
      ]
    },
    {
      "cell_type": "code",
      "source": [
        "exp_loss_srw = np.mean(np.array(losses), axis = 0)"
      ],
      "metadata": {
        "id": "0ityg9Jpwir-"
      },
      "execution_count": null,
      "outputs": []
    },
    {
      "cell_type": "code",
      "source": [
        "plt.plot(np.arange(0, num_iter), (exp_loss_srw))\n",
        "plt.yscale('log')"
      ],
      "metadata": {
        "colab": {
          "base_uri": "https://localhost:8080/",
          "height": 430
        },
        "id": "L9R0Tn3VwvdM",
        "outputId": "817fa5a6-c4d2-425d-d005-56d8e7eded4a"
      },
      "execution_count": null,
      "outputs": [
        {
          "output_type": "display_data",
          "data": {
            "text/plain": [
              "<Figure size 640x480 with 1 Axes>"
            ],
            "image/png": "[encoded data removed]"
          },
          "metadata": {}
        }
      ]
    },
    {
      "cell_type": "code",
      "source": [
        "\n",
        "losses_nbrw = []\n",
        "\n",
        "num_expts = 100\n",
        "\n",
        "for expt in range(num_expts):\n",
        "\n",
        "  print(\"Running experiment:\", expt+1)\n",
        "\n",
        "  theta = np.random.rand(k, 1)\n",
        "\n",
        "  num_iter = int(1e5)\n",
        "\n",
        "  ep_loss = []\n",
        "\n",
        "  current_node = np.random.choice(np.arange(0, n))\n",
        "\n",
        "  for i in range(1, num_iter + 1):\n",
        "  \n",
        "\n",
        "    a_i = A[:, current_node].reshape(k, 1)\n",
        "    D_i = D[:, :, current_node].reshape(k, k)\n",
        "\n",
        "    gamma = 1/(i**(0.9))\n",
        "\n",
        "    grad_g = (sum(d)/(n*d[current_node]))*(2*( (a_i @ (a_i.T) + D_i) @ theta) + b)\n",
        "\n",
        "    theta -= gamma * grad_g\n",
        "\n",
        "    if i == 1:\n",
        "      previous_node = current_node\n",
        "      current_node = np.random.choice(np.arange(0, n), p = srw_mtx[current_node].reshape(n))  \n",
        "\n",
        "    else:\n",
        "      probs_nbrw = dolphins[current_node].copy()\n",
        "      probs_nbrw[previous_node] = 0\n",
        "      if probs_nbrw.sum() == 0:\n",
        "        probs_nbrw[previous_node] = 1\n",
        "      else:\n",
        "        probs_nbrw /= probs_nbrw.sum()\n",
        "      previous_node = current_node\n",
        "      current_node = np.random.choice(np.arange(0, n), p = probs_nbrw)\n",
        "    \n",
        "    ep_loss.append(np.linalg.norm(theta - theta_optim)**2)\n",
        "\n",
        "  losses_nbrw.append(ep_loss)\n"
      ],
      "metadata": {
        "colab": {
          "base_uri": "https://localhost:8080/"
        },
        "id": "yU-1RiXAiMyC",
        "outputId": "5d727c3c-cfdf-4fc2-8c51-97aa26db1922"
      },
      "execution_count": null,
      "outputs": [
        {
          "output_type": "stream",
          "name": "stdout",
          "text": [
            "Running experiment: 1\n",
            "Running experiment: 2\n",
            "Running experiment: 3\n",
            "Running experiment: 4\n",
            "Running experiment: 5\n",
            "Running experiment: 6\n",
            "Running experiment: 7\n",
            "Running experiment: 8\n",
            "Running experiment: 9\n",
            "Running experiment: 10\n",
            "Running experiment: 11\n",
            "Running experiment: 12\n",
            "Running experiment: 13\n",
            "Running experiment: 14\n",
            "Running experiment: 15\n",
            "Running experiment: 16\n",
            "Running experiment: 17\n",
            "Running experiment: 18\n",
            "Running experiment: 19\n",
            "Running experiment: 20\n",
            "Running experiment: 21\n",
            "Running experiment: 22\n",
            "Running experiment: 23\n",
            "Running experiment: 24\n",
            "Running experiment: 25\n",
            "Running experiment: 26\n",
            "Running experiment: 27\n",
            "Running experiment: 28\n",
            "Running experiment: 29\n",
            "Running experiment: 30\n",
            "Running experiment: 31\n",
            "Running experiment: 32\n",
            "Running experiment: 33\n",
            "Running experiment: 34\n",
            "Running experiment: 35\n",
            "Running experiment: 36\n",
            "Running experiment: 37\n",
            "Running experiment: 38\n",
            "Running experiment: 39\n",
            "Running experiment: 40\n",
            "Running experiment: 41\n",
            "Running experiment: 42\n",
            "Running experiment: 43\n",
            "Running experiment: 44\n",
            "Running experiment: 45\n",
            "Running experiment: 46\n",
            "Running experiment: 47\n",
            "Running experiment: 48\n",
            "Running experiment: 49\n",
            "Running experiment: 50\n",
            "Running experiment: 51\n",
            "Running experiment: 52\n",
            "Running experiment: 53\n",
            "Running experiment: 54\n",
            "Running experiment: 55\n",
            "Running experiment: 56\n",
            "Running experiment: 57\n",
            "Running experiment: 58\n",
            "Running experiment: 59\n",
            "Running experiment: 60\n",
            "Running experiment: 61\n",
            "Running experiment: 62\n",
            "Running experiment: 63\n",
            "Running experiment: 64\n",
            "Running experiment: 65\n",
            "Running experiment: 66\n",
            "Running experiment: 67\n",
            "Running experiment: 68\n",
            "Running experiment: 69\n",
            "Running experiment: 70\n",
            "Running experiment: 71\n",
            "Running experiment: 72\n",
            "Running experiment: 73\n",
            "Running experiment: 74\n",
            "Running experiment: 75\n",
            "Running experiment: 76\n",
            "Running experiment: 77\n",
            "Running experiment: 78\n",
            "Running experiment: 79\n",
            "Running experiment: 80\n",
            "Running experiment: 81\n",
            "Running experiment: 82\n",
            "Running experiment: 83\n",
            "Running experiment: 84\n",
            "Running experiment: 85\n",
            "Running experiment: 86\n",
            "Running experiment: 87\n",
            "Running experiment: 88\n",
            "Running experiment: 89\n",
            "Running experiment: 90\n",
            "Running experiment: 91\n",
            "Running experiment: 92\n",
            "Running experiment: 93\n",
            "Running experiment: 94\n",
            "Running experiment: 95\n",
            "Running experiment: 96\n",
            "Running experiment: 97\n",
            "Running experiment: 98\n",
            "Running experiment: 99\n",
            "Running experiment: 100\n"
          ]
        }
      ]
    },
    {
      "cell_type": "code",
      "source": [
        "exp_loss_nbrw = np.mean(np.array(losses_nbrw), axis = 0)"
      ],
      "metadata": {
        "id": "r9bSklEczuIA"
      },
      "execution_count": null,
      "outputs": []
    },
    {
      "cell_type": "code",
      "source": [
        "plt.plot(np.arange(20000, num_iter), (exp_loss_srw[20000:]), label = 'SRW')\n",
        "plt.plot(np.arange(20000, num_iter), (exp_loss_nbrw[20000:]), label = 'NBRW')\n",
        "plt.yscale('log')\n",
        "plt.legend()"
      ],
      "metadata": {
        "colab": {
          "base_uri": "https://localhost:8080/",
          "height": 447
        },
        "id": "RiosEsHYzi2L",
        "outputId": "06cb7623-2575-4cc5-be26-dbc915a1aa06"
      },
      "execution_count": null,
      "outputs": [
        {
          "output_type": "execute_result",
          "data": {
            "text/plain": [
              "<matplotlib.legend.Legend at 0x7f59d966df70>"
            ]
          },
          "metadata": {},
          "execution_count": 41
        },
        {
          "output_type": "display_data",
          "data": {
            "text/plain": [
              "<Figure size 640x480 with 1 Axes>"
            ],
            "image/png": "[encoded data removed]"
          },
          "metadata": {}
        }
      ]
    },
    {
      "cell_type": "markdown",
      "source": [
        "#### Uniform sampling"
      ],
      "metadata": {
        "id": "70zMYG4kcKqE"
      }
    },
    {
      "cell_type": "code",
      "source": [
        "\n",
        "losses_us = []\n",
        "\n",
        "num_expts = 100\n",
        "\n",
        "for expt in range(num_expts):\n",
        "\n",
        "  print(\"Running experiment:\", expt+1)\n",
        "\n",
        "\n",
        "  theta = np.random.rand(k, 1)\n",
        "\n",
        "  num_iter = int(1e5)\n",
        "\n",
        "  ep_loss = []\n",
        "\n",
        "  for i in range(1, num_iter + 1):\n",
        "\n",
        "    current_node = np.random.choice(np.arange(0, n))\n",
        "\n",
        "    a_i = A[:, current_node].reshape(k, 1)\n",
        "    D_i = D[:, :, current_node].reshape(k, k)\n",
        "\n",
        "    gamma = 1/(i**(0.9))\n",
        "\n",
        "    grad_g = 2*( (a_i @ (a_i.T) + D_i) @ theta) + b\n",
        "\n",
        "    theta -= gamma * grad_g\n",
        "\n",
        "    ep_loss.append(np.linalg.norm(theta - theta_optim)**2)\n",
        "  \n",
        "  losses_us.append(ep_loss)"
      ],
      "metadata": {
        "colab": {
          "base_uri": "https://localhost:8080/"
        },
        "id": "SLBwIWiWczvv",
        "outputId": "876f5108-bb9b-4483-a102-8db2bbd0e169"
      },
      "execution_count": null,
      "outputs": [
        {
          "output_type": "stream",
          "name": "stdout",
          "text": [
            "Running experiment: 1\n",
            "Running experiment: 2\n",
            "Running experiment: 3\n",
            "Running experiment: 4\n",
            "Running experiment: 5\n",
            "Running experiment: 6\n",
            "Running experiment: 7\n",
            "Running experiment: 8\n",
            "Running experiment: 9\n",
            "Running experiment: 10\n",
            "Running experiment: 11\n",
            "Running experiment: 12\n",
            "Running experiment: 13\n",
            "Running experiment: 14\n",
            "Running experiment: 15\n",
            "Running experiment: 16\n",
            "Running experiment: 17\n",
            "Running experiment: 18\n",
            "Running experiment: 19\n",
            "Running experiment: 20\n",
            "Running experiment: 21\n",
            "Running experiment: 22\n",
            "Running experiment: 23\n",
            "Running experiment: 24\n",
            "Running experiment: 25\n",
            "Running experiment: 26\n",
            "Running experiment: 27\n",
            "Running experiment: 28\n",
            "Running experiment: 29\n",
            "Running experiment: 30\n",
            "Running experiment: 31\n",
            "Running experiment: 32\n",
            "Running experiment: 33\n",
            "Running experiment: 34\n",
            "Running experiment: 35\n",
            "Running experiment: 36\n",
            "Running experiment: 37\n",
            "Running experiment: 38\n",
            "Running experiment: 39\n",
            "Running experiment: 40\n",
            "Running experiment: 41\n",
            "Running experiment: 42\n",
            "Running experiment: 43\n",
            "Running experiment: 44\n",
            "Running experiment: 45\n",
            "Running experiment: 46\n",
            "Running experiment: 47\n",
            "Running experiment: 48\n",
            "Running experiment: 49\n",
            "Running experiment: 50\n",
            "Running experiment: 51\n",
            "Running experiment: 52\n",
            "Running experiment: 53\n",
            "Running experiment: 54\n",
            "Running experiment: 55\n",
            "Running experiment: 56\n",
            "Running experiment: 57\n",
            "Running experiment: 58\n",
            "Running experiment: 59\n",
            "Running experiment: 60\n",
            "Running experiment: 61\n",
            "Running experiment: 62\n",
            "Running experiment: 63\n",
            "Running experiment: 64\n",
            "Running experiment: 65\n",
            "Running experiment: 66\n",
            "Running experiment: 67\n",
            "Running experiment: 68\n",
            "Running experiment: 69\n",
            "Running experiment: 70\n",
            "Running experiment: 71\n",
            "Running experiment: 72\n",
            "Running experiment: 73\n",
            "Running experiment: 74\n",
            "Running experiment: 75\n",
            "Running experiment: 76\n",
            "Running experiment: 77\n",
            "Running experiment: 78\n",
            "Running experiment: 79\n",
            "Running experiment: 80\n",
            "Running experiment: 81\n",
            "Running experiment: 82\n",
            "Running experiment: 83\n",
            "Running experiment: 84\n",
            "Running experiment: 85\n",
            "Running experiment: 86\n",
            "Running experiment: 87\n",
            "Running experiment: 88\n",
            "Running experiment: 89\n",
            "Running experiment: 90\n",
            "Running experiment: 91\n",
            "Running experiment: 92\n",
            "Running experiment: 93\n",
            "Running experiment: 94\n",
            "Running experiment: 95\n",
            "Running experiment: 96\n",
            "Running experiment: 97\n",
            "Running experiment: 98\n",
            "Running experiment: 99\n",
            "Running experiment: 100\n"
          ]
        }
      ]
    },
    {
      "cell_type": "code",
      "source": [
        "exp_loss_us = np.mean(np.array(losses_us), axis = 0)\n"
      ],
      "metadata": {
        "id": "41flV-M-5kg2"
      },
      "execution_count": null,
      "outputs": []
    },
    {
      "cell_type": "code",
      "source": [
        "plt.plot(np.arange(0, num_iter), (exp_loss_srw), label = 'SRW')\n",
        "plt.plot(np.arange(0, num_iter), (exp_loss_nbrw), label = 'NBRW')\n",
        "plt.plot(np.arange(0, num_iter), (exp_loss_us), label = 'Uniform Sampling')\n",
        "plt.yscale('log')\n",
        "plt.legend()"
      ],
      "metadata": {
        "colab": {
          "base_uri": "https://localhost:8080/",
          "height": 447
        },
        "id": "tZGqlntt5rTz",
        "outputId": "e8367086-b267-46d3-ff06-c15fcc1fe22b"
      },
      "execution_count": null,
      "outputs": [
        {
          "output_type": "execute_result",
          "data": {
            "text/plain": [
              "<matplotlib.legend.Legend at 0x7f59c5f125b0>"
            ]
          },
          "metadata": {},
          "execution_count": 44
        },
        {
          "output_type": "display_data",
          "data": {
            "text/plain": [
              "<Figure size 640x480 with 1 Axes>"
            ],
            "image/png": "[encoded data removed]"
          },
          "metadata": {}
        }
      ]
    },
    {
      "cell_type": "markdown",
      "source": [
        "#### Single shuffling"
      ],
      "metadata": {
        "id": "hvMgRd16dVaZ"
      }
    },
    {
      "cell_type": "code",
      "source": [
        "losses_ss = []\n",
        "\n",
        "num_expts = 100\n",
        "\n",
        "for expt in range(num_expts):\n",
        "\n",
        "  print(\"Running experiment:\", expt+1)\n",
        "\n",
        "  node_perm = np.random.permutation(np.arange(0, n))\n",
        "\n",
        "  theta = np.random.rand(k, 1)\n",
        "\n",
        "  num_iter = int(1e5)\n",
        "\n",
        "  ep_loss = []\n",
        "\n",
        "  for i in range(1, num_iter + 1):\n",
        "\n",
        "    current_node = node_perm[(i-1)%n]\n",
        "\n",
        "    a_i = A[:, current_node].reshape(k, 1)\n",
        "    D_i = D[:, :, current_node].reshape(k, k)\n",
        "\n",
        "    gamma = 1/(i**(0.9))\n",
        "\n",
        "    grad_g = 2*( (a_i @ (a_i.T) + D_i) @ theta) + b\n",
        "\n",
        "    theta -= gamma * grad_g\n",
        "\n",
        "    ep_loss.append(np.linalg.norm(theta - theta_optim)**2)\n",
        "\n",
        "  losses_ss.append(ep_loss)"
      ],
      "metadata": {
        "colab": {
          "base_uri": "https://localhost:8080/"
        },
        "id": "pBJcRKsGduey",
        "outputId": "64c3bc9b-411f-40de-971e-ecf194c58844"
      },
      "execution_count": null,
      "outputs": [
        {
          "output_type": "stream",
          "name": "stdout",
          "text": [
            "Running experiment: 1\n",
            "Running experiment: 2\n",
            "Running experiment: 3\n",
            "Running experiment: 4\n",
            "Running experiment: 5\n",
            "Running experiment: 6\n",
            "Running experiment: 7\n",
            "Running experiment: 8\n",
            "Running experiment: 9\n",
            "Running experiment: 10\n",
            "Running experiment: 11\n",
            "Running experiment: 12\n",
            "Running experiment: 13\n",
            "Running experiment: 14\n",
            "Running experiment: 15\n",
            "Running experiment: 16\n",
            "Running experiment: 17\n",
            "Running experiment: 18\n",
            "Running experiment: 19\n",
            "Running experiment: 20\n",
            "Running experiment: 21\n",
            "Running experiment: 22\n",
            "Running experiment: 23\n",
            "Running experiment: 24\n",
            "Running experiment: 25\n",
            "Running experiment: 26\n",
            "Running experiment: 27\n",
            "Running experiment: 28\n",
            "Running experiment: 29\n",
            "Running experiment: 30\n",
            "Running experiment: 31\n",
            "Running experiment: 32\n",
            "Running experiment: 33\n",
            "Running experiment: 34\n",
            "Running experiment: 35\n",
            "Running experiment: 36\n",
            "Running experiment: 37\n",
            "Running experiment: 38\n",
            "Running experiment: 39\n",
            "Running experiment: 40\n",
            "Running experiment: 41\n",
            "Running experiment: 42\n",
            "Running experiment: 43\n",
            "Running experiment: 44\n",
            "Running experiment: 45\n",
            "Running experiment: 46\n",
            "Running experiment: 47\n",
            "Running experiment: 48\n",
            "Running experiment: 49\n",
            "Running experiment: 50\n",
            "Running experiment: 51\n",
            "Running experiment: 52\n",
            "Running experiment: 53\n",
            "Running experiment: 54\n",
            "Running experiment: 55\n",
            "Running experiment: 56\n",
            "Running experiment: 57\n",
            "Running experiment: 58\n",
            "Running experiment: 59\n",
            "Running experiment: 60\n",
            "Running experiment: 61\n",
            "Running experiment: 62\n",
            "Running experiment: 63\n",
            "Running experiment: 64\n",
            "Running experiment: 65\n",
            "Running experiment: 66\n",
            "Running experiment: 67\n",
            "Running experiment: 68\n",
            "Running experiment: 69\n",
            "Running experiment: 70\n",
            "Running experiment: 71\n",
            "Running experiment: 72\n",
            "Running experiment: 73\n",
            "Running experiment: 74\n",
            "Running experiment: 75\n",
            "Running experiment: 76\n",
            "Running experiment: 77\n",
            "Running experiment: 78\n",
            "Running experiment: 79\n",
            "Running experiment: 80\n",
            "Running experiment: 81\n",
            "Running experiment: 82\n",
            "Running experiment: 83\n",
            "Running experiment: 84\n",
            "Running experiment: 85\n",
            "Running experiment: 86\n",
            "Running experiment: 87\n",
            "Running experiment: 88\n",
            "Running experiment: 89\n",
            "Running experiment: 90\n",
            "Running experiment: 91\n",
            "Running experiment: 92\n",
            "Running experiment: 93\n",
            "Running experiment: 94\n",
            "Running experiment: 95\n",
            "Running experiment: 96\n",
            "Running experiment: 97\n",
            "Running experiment: 98\n",
            "Running experiment: 99\n",
            "Running experiment: 100\n"
          ]
        }
      ]
    },
    {
      "cell_type": "code",
      "source": [
        "exp_loss_ss = np.mean(np.array(losses_ss), axis = 0)"
      ],
      "metadata": {
        "id": "Zhe87TBe7KqH"
      },
      "execution_count": null,
      "outputs": []
    },
    {
      "cell_type": "code",
      "source": [
        "plt.plot(np.arange(0, num_iter), (exp_loss_srw), label = 'SRW')\n",
        "plt.plot(np.arange(0, num_iter), (exp_loss_nbrw), label = 'NBRW')\n",
        "plt.plot(np.arange(0, num_iter), (exp_loss_us), label = 'Uniform Sampling')\n",
        "plt.plot(np.arange(0, num_iter), (exp_loss_ss), label = 'Single Shuffling')\n",
        "plt.yscale('log')\n",
        "plt.legend()"
      ],
      "metadata": {
        "colab": {
          "base_uri": "https://localhost:8080/",
          "height": 447
        },
        "id": "zMPtzbAp7Mx1",
        "outputId": "55912fc6-4592-4fce-bc90-a39f6ddbe21b"
      },
      "execution_count": null,
      "outputs": [
        {
          "output_type": "execute_result",
          "data": {
            "text/plain": [
              "<matplotlib.legend.Legend at 0x7f5a0b764a90>"
            ]
          },
          "metadata": {},
          "execution_count": 47
        },
        {
          "output_type": "display_data",
          "data": {
            "text/plain": [
              "<Figure size 640x480 with 1 Axes>"
            ],
            "image/png": "[encoded data removed]"
          },
          "metadata": {}
        }
      ]
    },
    {
      "cell_type": "markdown",
      "source": [
        "#### Random shuffling"
      ],
      "metadata": {
        "id": "BqdxQJYLfE0o"
      }
    },
    {
      "cell_type": "code",
      "source": [
        "losses_rs = []\n",
        "\n",
        "num_expts = 100\n",
        "\n",
        "for expt in range(num_expts):\n",
        "\n",
        "  print(\"Running experiment:\", expt+1)\n",
        "\n",
        "  theta = np.random.rand(k, 1)\n",
        "\n",
        "  num_iter = int(1e5)\n",
        "\n",
        "  ep_loss = []\n",
        "\n",
        "  for i in range(1, num_iter + 1):\n",
        "\n",
        "    if (i-1)%n == 0:\n",
        "      node_perm = np.random.permutation(np.arange(0, n))\n",
        "\n",
        "    current_node = node_perm[(i-1)%n]\n",
        "\n",
        "    a_i = A[:, current_node].reshape(k, 1)\n",
        "    D_i = D[:, :, current_node].reshape(k, k)\n",
        "\n",
        "    gamma = 1/(i**(0.9))\n",
        "\n",
        "    grad_g = 2*( (a_i @ (a_i.T) + D_i) @ theta) + b\n",
        "\n",
        "    theta -= gamma * grad_g\n",
        "\n",
        "    ep_loss.append(np.linalg.norm(theta - theta_optim)**2)\n",
        "\n",
        "  losses_rs.append(ep_loss)"
      ],
      "metadata": {
        "colab": {
          "base_uri": "https://localhost:8080/"
        },
        "id": "dPDTORci8EyB",
        "outputId": "4a8486c6-d009-464d-b867-5f68bbf9d86d"
      },
      "execution_count": null,
      "outputs": [
        {
          "output_type": "stream",
          "name": "stdout",
          "text": [
            "Running experiment: 1\n",
            "Running experiment: 2\n",
            "Running experiment: 3\n",
            "Running experiment: 4\n",
            "Running experiment: 5\n",
            "Running experiment: 6\n",
            "Running experiment: 7\n",
            "Running experiment: 8\n",
            "Running experiment: 9\n",
            "Running experiment: 10\n",
            "Running experiment: 11\n",
            "Running experiment: 12\n",
            "Running experiment: 13\n",
            "Running experiment: 14\n",
            "Running experiment: 15\n",
            "Running experiment: 16\n",
            "Running experiment: 17\n",
            "Running experiment: 18\n",
            "Running experiment: 19\n",
            "Running experiment: 20\n",
            "Running experiment: 21\n",
            "Running experiment: 22\n",
            "Running experiment: 23\n",
            "Running experiment: 24\n",
            "Running experiment: 25\n",
            "Running experiment: 26\n",
            "Running experiment: 27\n",
            "Running experiment: 28\n",
            "Running experiment: 29\n",
            "Running experiment: 30\n",
            "Running experiment: 31\n",
            "Running experiment: 32\n",
            "Running experiment: 33\n",
            "Running experiment: 34\n",
            "Running experiment: 35\n",
            "Running experiment: 36\n",
            "Running experiment: 37\n",
            "Running experiment: 38\n",
            "Running experiment: 39\n",
            "Running experiment: 40\n",
            "Running experiment: 41\n",
            "Running experiment: 42\n",
            "Running experiment: 43\n",
            "Running experiment: 44\n",
            "Running experiment: 45\n",
            "Running experiment: 46\n",
            "Running experiment: 47\n",
            "Running experiment: 48\n",
            "Running experiment: 49\n",
            "Running experiment: 50\n",
            "Running experiment: 51\n",
            "Running experiment: 52\n",
            "Running experiment: 53\n",
            "Running experiment: 54\n",
            "Running experiment: 55\n",
            "Running experiment: 56\n",
            "Running experiment: 57\n",
            "Running experiment: 58\n",
            "Running experiment: 59\n",
            "Running experiment: 60\n",
            "Running experiment: 61\n",
            "Running experiment: 62\n",
            "Running experiment: 63\n",
            "Running experiment: 64\n",
            "Running experiment: 65\n",
            "Running experiment: 66\n",
            "Running experiment: 67\n",
            "Running experiment: 68\n",
            "Running experiment: 69\n",
            "Running experiment: 70\n",
            "Running experiment: 71\n",
            "Running experiment: 72\n",
            "Running experiment: 73\n",
            "Running experiment: 74\n",
            "Running experiment: 75\n",
            "Running experiment: 76\n",
            "Running experiment: 77\n",
            "Running experiment: 78\n",
            "Running experiment: 79\n",
            "Running experiment: 80\n",
            "Running experiment: 81\n",
            "Running experiment: 82\n",
            "Running experiment: 83\n",
            "Running experiment: 84\n",
            "Running experiment: 85\n",
            "Running experiment: 86\n",
            "Running experiment: 87\n",
            "Running experiment: 88\n",
            "Running experiment: 89\n",
            "Running experiment: 90\n",
            "Running experiment: 91\n",
            "Running experiment: 92\n",
            "Running experiment: 93\n",
            "Running experiment: 94\n",
            "Running experiment: 95\n",
            "Running experiment: 96\n",
            "Running experiment: 97\n",
            "Running experiment: 98\n",
            "Running experiment: 99\n",
            "Running experiment: 100\n"
          ]
        }
      ]
    },
    {
      "cell_type": "code",
      "source": [
        "exp_loss_rs = np.mean(np.array(losses_rs), axis = 0)"
      ],
      "metadata": {
        "id": "NlSClU8M8tnr"
      },
      "execution_count": null,
      "outputs": []
    },
    {
      "cell_type": "code",
      "source": [
        "plt.plot(np.arange(1, num_iter+1), (exp_loss_srw), label = 'SRW')\n",
        "plt.plot(np.arange(1, num_iter+1), (exp_loss_nbrw), label = 'NBRW')\n",
        "plt.plot(np.arange(1, num_iter+1), (exp_loss_us), label = 'Uniform Sampling')\n",
        "plt.plot(np.arange(1, num_iter+1), (exp_loss_ss), label = 'Single Shuffling')\n",
        "plt.plot(np.arange(1, num_iter+1), (exp_loss_rs), label = 'Random Shuffling')\n",
        "plt.yscale('log')\n",
        "plt.title(r\"Loss: $\\hat{f}(\\theta)$\")\n",
        "plt.ylabel(r\"$\\mathbb{E}||\\theta_t - \\theta^*||^2_2$ (log-scale)\")\n",
        "plt.xlabel(\"No: of iterations\")\n",
        "plt.legend()\n",
        "plt.savefig(\"drive/MyDrive/EE5111/convex_loss_macaque.eps\", format='eps', bbox_inches = 'tight')"
      ],
      "metadata": {
        "colab": {
          "base_uri": "https://localhost:8080/",
          "height": 497
        },
        "id": "STAArVCr8xGg",
        "outputId": "7713f04a-1580-4b3b-a2a8-a1e3bf7f2997"
      },
      "execution_count": null,
      "outputs": [
        {
          "output_type": "stream",
          "name": "stderr",
          "text": [
            "WARNING:matplotlib.backends.backend_ps:The PostScript backend does not support transparency; partially transparent artists will be rendered opaque.\n"
          ]
        },
        {
          "output_type": "display_data",
          "data": {
            "text/plain": [
              "<Figure size 640x480 with 1 Axes>"
            ],
            "image/png": "[encoded data removed]"
          },
          "metadata": {}
        }
      ]
    },
    {
      "cell_type": "code",
      "source": [
        "gammas = [1/(x**(0.9)) for x in range(1, num_iter+1)]"
      ],
      "metadata": {
        "id": "q0lu7-6sBHmC"
      },
      "execution_count": null,
      "outputs": []
    },
    {
      "cell_type": "code",
      "source": [
        "plt.plot(np.arange(0, num_iter), (exp_loss_srw/gammas), label = 'SRW')\n",
        "plt.plot(np.arange(0, num_iter), (exp_loss_nbrw/gammas), label = 'NBRW')\n",
        "plt.plot(np.arange(0, num_iter), (exp_loss_us/gammas), label = 'Uniform Sampling')\n",
        "plt.plot(np.arange(0, num_iter), (exp_loss_ss/gammas), label = 'Single Shuffling')\n",
        "plt.plot(np.arange(0, num_iter), (exp_loss_rs/gammas), label = 'Random Shuffling')\n",
        "plt.yscale('log')\n",
        "plt.title(r\"Loss: $\\hat{f}(\\theta)$\")\n",
        "plt.ylabel(r\"$\\mathbb{E}||\\theta_t - \\theta^*||^2_2 / \\gamma_t$ (log-scale)\")\n",
        "plt.xlabel(\"No: of iterations\")\n",
        "plt.legend()\n",
        "plt.savefig(\"drive/MyDrive/EE5111/convex_loss_gamma_macaque.eps\", format='eps', bbox_inches = 'tight')"
      ],
      "metadata": {
        "colab": {
          "base_uri": "https://localhost:8080/",
          "height": 497
        },
        "id": "bNYWs4Vp81ya",
        "outputId": "15ea283d-9c4b-4c5b-99c9-98a46306ff92"
      },
      "execution_count": null,
      "outputs": [
        {
          "output_type": "stream",
          "name": "stderr",
          "text": [
            "WARNING:matplotlib.backends.backend_ps:The PostScript backend does not support transparency; partially transparent artists will be rendered opaque.\n"
          ]
        },
        {
          "output_type": "display_data",
          "data": {
            "text/plain": [
              "<Figure size 640x480 with 1 Axes>"
            ],
            "image/png": "[encoded data removed]"
          },
          "metadata": {}
        }
      ]
    },
    {
      "cell_type": "code",
      "source": [],
      "metadata": {
        "id": "EFIDrNtWBtur"
      },
      "execution_count": null,
      "outputs": []
    }
  ]
}