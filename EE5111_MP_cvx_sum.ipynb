{
  "nbformat": 4,
  "nbformat_minor": 0,
  "metadata": {
    "colab": {
      "provenance": []
    },
    "kernelspec": {
      "name": "python3",
      "display_name": "Python 3"
    },
    "language_info": {
      "name": "python"
    }
  },
  "cells": [
    {
      "cell_type": "markdown",
      "source": [
        "## Dolphins graph"
      ],
      "metadata": {
        "id": "6k2UlMoEVSQ_"
      }
    },
    {
      "cell_type": "markdown",
      "source": [
        "- Download the .mtx graph file from https://networkrepository.com/soc-dolphins.php. \n",
        "- This file essentially is a matrix file depicting the edges of the graph."
      ],
      "metadata": {
        "id": "rvdJeZMWWleY"
      }
    },
    {
      "cell_type": "code",
      "source": [
        "from scipy.io import mmread\n",
        "\n",
        "dolphins = mmread('drive/MyDrive/EE5111/soc-dolphins.mtx')\n",
        "dolphins = dolphins.toarray()"
      ],
      "metadata": {
        "id": "MtKCuBHLVZD6"
      },
      "execution_count": null,
      "outputs": []
    },
    {
      "cell_type": "code",
      "source": [
        "dolphins.shape"
      ],
      "metadata": {
        "colab": {
          "base_uri": "https://localhost:8080/"
        },
        "id": "DseMdwu_V5Sa",
        "outputId": "e3df418c-4349-4fb7-e00b-739f3377450c"
      },
      "execution_count": null,
      "outputs": [
        {
          "output_type": "execute_result",
          "data": {
            "text/plain": [
              "(62, 62)"
            ]
          },
          "metadata": {},
          "execution_count": 2
        }
      ]
    },
    {
      "cell_type": "markdown",
      "source": [
        "The graph has 62 nodes."
      ],
      "metadata": {
        "id": "8-wDkmwRW1v2"
      }
    },
    {
      "cell_type": "markdown",
      "source": [
        "1 represents the presence of an edge, 0 represents the absence of an edge"
      ],
      "metadata": {
        "id": "6AX4zIchWjTx"
      }
    },
    {
      "cell_type": "markdown",
      "source": [
        "## Transition matrix for simple random walk"
      ],
      "metadata": {
        "id": "-WyHz80EW71-"
      }
    },
    {
      "cell_type": "code",
      "source": [
        "import numpy as np"
      ],
      "metadata": {
        "id": "a6od9GZjX4se"
      },
      "execution_count": null,
      "outputs": []
    },
    {
      "cell_type": "code",
      "source": [
        "def gen_srw_transition(graph):\n",
        "\n",
        "  vertices = graph.shape[0]\n",
        "  trans_mtx = np.zeros((vertices, vertices))\n",
        "  degrees = []\n",
        "\n",
        "  for i in range(vertices):\n",
        "    total_edges = np.sum(graph[i, :])\n",
        "    degrees.append(total_edges)\n",
        "    trans_mtx[i, :] = graph[i, :]/total_edges\n",
        "  \n",
        "  return trans_mtx, degrees"
      ],
      "metadata": {
        "id": "w3T6XL-pXI8g"
      },
      "execution_count": null,
      "outputs": []
    },
    {
      "cell_type": "code",
      "source": [
        "srw_mtx, d = gen_srw_transition(dolphins)"
      ],
      "metadata": {
        "id": "QqX6PQwAXzDD"
      },
      "execution_count": null,
      "outputs": []
    },
    {
      "cell_type": "code",
      "source": [
        "srw_mtx[0]"
      ],
      "metadata": {
        "colab": {
          "base_uri": "https://localhost:8080/"
        },
        "id": "99jgURRShixG",
        "outputId": "664c23be-77a9-46f4-bf6c-3c443fadd28b"
      },
      "execution_count": null,
      "outputs": [
        {
          "output_type": "execute_result",
          "data": {
            "text/plain": [
              "array([0.        , 0.        , 0.        , 0.        , 0.        ,\n",
              "       0.        , 0.        , 0.        , 0.        , 0.        ,\n",
              "       0.16666667, 0.        , 0.        , 0.        , 0.16666667,\n",
              "       0.16666667, 0.        , 0.        , 0.        , 0.        ,\n",
              "       0.        , 0.        , 0.        , 0.        , 0.        ,\n",
              "       0.        , 0.        , 0.        , 0.        , 0.        ,\n",
              "       0.        , 0.        , 0.        , 0.        , 0.        ,\n",
              "       0.        , 0.        , 0.        , 0.        , 0.        ,\n",
              "       0.16666667, 0.        , 0.16666667, 0.        , 0.        ,\n",
              "       0.        , 0.        , 0.16666667, 0.        , 0.        ,\n",
              "       0.        , 0.        , 0.        , 0.        , 0.        ,\n",
              "       0.        , 0.        , 0.        , 0.        , 0.        ,\n",
              "       0.        , 0.        ])"
            ]
          },
          "metadata": {},
          "execution_count": 6
        }
      ]
    },
    {
      "cell_type": "code",
      "source": [
        "sum(d)"
      ],
      "metadata": {
        "colab": {
          "base_uri": "https://localhost:8080/"
        },
        "id": "3Yc-nMhYfyvZ",
        "outputId": "d57cc800-fa7e-438d-c346-bdd9440f44de"
      },
      "execution_count": null,
      "outputs": [
        {
          "output_type": "execute_result",
          "data": {
            "text/plain": [
              "318.0"
            ]
          },
          "metadata": {},
          "execution_count": 7
        }
      ]
    },
    {
      "cell_type": "markdown",
      "source": [
        "## Sum of non-convex functions"
      ],
      "metadata": {
        "id": "3mAN0Cp8X3XW"
      }
    },
    {
      "cell_type": "code",
      "source": [
        "# No: of datapoints\n",
        "n = 62\n",
        "\n",
        "# Dimension of paramater vector\n",
        "k = 10\n",
        "\n",
        "a_sum = np.zeros((k, k))\n",
        "A = np.zeros((k, n))\n",
        "\n",
        "for i in range(n):\n",
        "  a = np.random.rand(k)\n",
        "  A[:, i] = a\n",
        "  a_sum += (a.reshape(k, 1) @ a.reshape(1, k))\n",
        "\n",
        "a_sum /= n\n",
        "\n",
        "try:\n",
        "  print(np.linalg.inv(a_sum))\n",
        "  print(\"Inverse exists\")\n",
        "except:\n",
        "  print(\"Failed!\")\n",
        "\n",
        "D = np.zeros((k, k, n))\n",
        "\n",
        "for i in range(k):\n",
        "  D[i, i, :(n//2)] = 1.1\n",
        "  D[i, i, (n//2):] = -1.1\n",
        "\n",
        "b = np.random.rand(k, 1)\n",
        "\n",
        "\n"
      ],
      "metadata": {
        "id": "FH2JU35SX81t",
        "colab": {
          "base_uri": "https://localhost:8080/"
        },
        "outputId": "4fea3264-76da-4713-e33d-5b8ce9320b2b"
      },
      "execution_count": null,
      "outputs": [
        {
          "output_type": "stream",
          "name": "stdout",
          "text": [
            "[[12.6244613  -0.30274863 -2.90911122 -0.1649202  -2.56131619 -0.74913072\n",
            "  -2.95173006 -0.34996731 -2.37082739  0.36806271]\n",
            " [-0.30274863 12.70288223 -0.78521752 -1.53977517 -2.39745214 -1.51218485\n",
            "  -1.33769507 -0.93038154 -1.37049304 -0.51501957]\n",
            " [-2.90911122 -0.78521752 11.62336075 -0.55779022 -1.5153138  -0.40163257\n",
            "  -0.34479575 -1.31931786 -0.99101828 -3.11233553]\n",
            " [-0.1649202  -1.53977517 -0.55779022 12.64408964  0.54005601 -2.14409588\n",
            "  -2.67888131 -3.72375086 -2.29545319 -1.21501986]\n",
            " [-2.56131619 -2.39745214 -1.5153138   0.54005601 12.62622667 -1.4139234\n",
            "  -2.32656755 -1.2125177   1.92200303 -3.06345585]\n",
            " [-0.74913072 -1.51218485 -0.40163257 -2.14409588 -1.4139234   9.98240282\n",
            "  -1.87954491  0.90519679 -1.97104527 -0.17256182]\n",
            " [-2.95173006 -1.33769507 -0.34479575 -2.67888131 -2.32656755 -1.87954491\n",
            "  14.14687235 -1.47690534  0.99248705 -1.33045115]\n",
            " [-0.34996731 -0.93038154 -1.31931786 -3.72375086 -1.2125177   0.90519679\n",
            "  -1.47690534 11.23715685 -2.62116033  0.41371779]\n",
            " [-2.37082739 -1.37049304 -0.99101828 -2.29545319  1.92200303 -1.97104527\n",
            "   0.99248705 -2.62116033 12.32129798 -2.50438513]\n",
            " [ 0.36806271 -0.51501957 -3.11233553 -1.21501986 -3.06345585 -0.17256182\n",
            "  -1.33045115  0.41371779 -2.50438513 10.24661199]]\n",
            "Inverse exists\n"
          ]
        }
      ]
    },
    {
      "cell_type": "code",
      "source": [
        "theta_optim = -0.5*( np.linalg.inv(a_sum) @ b )"
      ],
      "metadata": {
        "id": "7ThBLKcJecm0"
      },
      "execution_count": null,
      "outputs": []
    },
    {
      "cell_type": "code",
      "source": [
        "theta_optim"
      ],
      "metadata": {
        "colab": {
          "base_uri": "https://localhost:8080/"
        },
        "id": "aR5a3kNajDIl",
        "outputId": "b565719d-b0bc-4fdc-9e03-d693a44ba432"
      },
      "execution_count": null,
      "outputs": [
        {
          "output_type": "execute_result",
          "data": {
            "text/plain": [
              "array([[-0.06768362],\n",
              "       [-3.56501516],\n",
              "       [-0.79489113],\n",
              "       [ 1.51038738],\n",
              "       [ 0.68248143],\n",
              "       [ 2.00152675],\n",
              "       [-4.04833295],\n",
              "       [ 1.84678127],\n",
              "       [-1.99406294],\n",
              "       [ 2.55515734]])"
            ]
          },
          "metadata": {},
          "execution_count": 66
        }
      ]
    },
    {
      "cell_type": "code",
      "source": [
        "def fun(x):\n",
        "  x = x.reshape(k, 1)\n",
        "  return x.T @ a_sum @ x + b.T @ x"
      ],
      "metadata": {
        "id": "OICL4C7mkW70"
      },
      "execution_count": null,
      "outputs": []
    },
    {
      "cell_type": "code",
      "source": [
        "from scipy.optimize import minimize"
      ],
      "metadata": {
        "id": "HDWk-W61koAh"
      },
      "execution_count": null,
      "outputs": []
    },
    {
      "cell_type": "code",
      "source": [
        "test = minimize(fun, np.random.rand(k))"
      ],
      "metadata": {
        "id": "6_eK2mRWkltW"
      },
      "execution_count": null,
      "outputs": []
    },
    {
      "cell_type": "code",
      "source": [
        "test"
      ],
      "metadata": {
        "colab": {
          "base_uri": "https://localhost:8080/"
        },
        "id": "LebntlnCk06x",
        "outputId": "245e214f-f84a-4471-9302-3c3148a7776c"
      },
      "execution_count": null,
      "outputs": [
        {
          "output_type": "execute_result",
          "data": {
            "text/plain": [
              "  message: Optimization terminated successfully.\n",
              "  success: True\n",
              "   status: 0\n",
              "      fun: -2.8263030824029234\n",
              "        x: [ 4.997e-01 -2.363e+00  5.578e-01 -2.836e+00  2.284e+00\n",
              "             2.709e+00 -3.769e+00 -1.149e+00  1.216e+00  1.482e+00]\n",
              "      nit: 26\n",
              "      jac: [-4.560e-06  8.941e-07  6.735e-06  9.805e-06  6.199e-06\n",
              "             3.010e-06  3.338e-06 -6.407e-06 -2.384e-06  9.418e-06]\n",
              " hess_inv: [[ 3.990e+00 -1.293e+00 ... -1.770e+00  1.037e+00]\n",
              "            [-1.293e+00  2.551e+00 ...  8.296e-01 -1.031e+00]\n",
              "            ...\n",
              "            [-1.770e+00  8.296e-01 ...  4.613e+00 -3.036e-01]\n",
              "            [ 1.037e+00 -1.031e+00 ... -3.036e-01  4.469e+00]]\n",
              "     nfev: 297\n",
              "     njev: 27"
            ]
          },
          "metadata": {},
          "execution_count": 14
        }
      ]
    },
    {
      "cell_type": "markdown",
      "source": [
        "### Performing SGD"
      ],
      "metadata": {
        "id": "TF7M-b_CYVGu"
      }
    },
    {
      "cell_type": "code",
      "source": [
        "import matplotlib.pyplot as plt"
      ],
      "metadata": {
        "id": "GUp6XQOQjPet"
      },
      "execution_count": null,
      "outputs": []
    },
    {
      "cell_type": "code",
      "source": [
        "\n",
        "\n",
        "losses = []\n",
        "\n",
        "num_expts = 50\n",
        "\n",
        "for expt in range(num_expts):\n",
        "\n",
        "  print(\"Running experiment:\", expt+1)\n",
        "\n",
        "  ep_loss = []\n",
        "\n",
        "  theta = np.random.rand(k, 1)\n",
        "\n",
        "  num_iter = int(1e5)\n",
        "\n",
        "  current_node = np.random.choice(np.arange(0, n))\n",
        "\n",
        "  for i in range(1, num_iter + 1):\n",
        "\n",
        "    a_i = A[:, current_node].reshape(k, 1)\n",
        "    D_i = D[:, :, current_node].reshape(k, k)\n",
        "\n",
        "    gamma = 1/(i**(0.9))\n",
        "\n",
        "    grad_g = (sum(d)/(n*d[current_node]))*(2*( (a_i @ (a_i.T) + D_i) @ theta) + b)\n",
        "\n",
        "    theta -= gamma * grad_g\n",
        "\n",
        "    current_node = np.random.choice(np.arange(0, n), p = srw_mtx[current_node].reshape(n))  \n",
        "\n",
        "    ep_loss.append(np.linalg.norm(theta - theta_optim)**2)\n",
        "  \n",
        "  losses.append(ep_loss)\n",
        "\n",
        "\n"
      ],
      "metadata": {
        "colab": {
          "base_uri": "https://localhost:8080/"
        },
        "id": "8nk9q0bUbsD4",
        "outputId": "538a5216-d2ea-4115-dc83-d235f2551899"
      },
      "execution_count": null,
      "outputs": [
        {
          "output_type": "stream",
          "name": "stdout",
          "text": [
            "Running experiment: 1\n",
            "Running experiment: 2\n",
            "Running experiment: 3\n",
            "Running experiment: 4\n",
            "Running experiment: 5\n",
            "Running experiment: 6\n",
            "Running experiment: 7\n",
            "Running experiment: 8\n",
            "Running experiment: 9\n",
            "Running experiment: 10\n",
            "Running experiment: 11\n",
            "Running experiment: 12\n",
            "Running experiment: 13\n",
            "Running experiment: 14\n",
            "Running experiment: 15\n",
            "Running experiment: 16\n",
            "Running experiment: 17\n",
            "Running experiment: 18\n",
            "Running experiment: 19\n",
            "Running experiment: 20\n",
            "Running experiment: 21\n",
            "Running experiment: 22\n",
            "Running experiment: 23\n",
            "Running experiment: 24\n",
            "Running experiment: 25\n",
            "Running experiment: 26\n",
            "Running experiment: 27\n",
            "Running experiment: 28\n",
            "Running experiment: 29\n",
            "Running experiment: 30\n",
            "Running experiment: 31\n",
            "Running experiment: 32\n",
            "Running experiment: 33\n",
            "Running experiment: 34\n",
            "Running experiment: 35\n",
            "Running experiment: 36\n",
            "Running experiment: 37\n",
            "Running experiment: 38\n",
            "Running experiment: 39\n",
            "Running experiment: 40\n",
            "Running experiment: 41\n",
            "Running experiment: 42\n",
            "Running experiment: 43\n",
            "Running experiment: 44\n",
            "Running experiment: 45\n",
            "Running experiment: 46\n",
            "Running experiment: 47\n",
            "Running experiment: 48\n",
            "Running experiment: 49\n",
            "Running experiment: 50\n"
          ]
        }
      ]
    },
    {
      "cell_type": "code",
      "source": [
        "exp_loss_srw = np.mean(np.array(losses), axis = 0)"
      ],
      "metadata": {
        "id": "0ityg9Jpwir-"
      },
      "execution_count": null,
      "outputs": []
    },
    {
      "cell_type": "code",
      "source": [
        "plt.plot(np.arange(0, num_iter), (exp_loss_srw))\n",
        "plt.yscale('log')"
      ],
      "metadata": {
        "colab": {
          "base_uri": "https://localhost:8080/",
          "height": 430
        },
        "id": "L9R0Tn3VwvdM",
        "outputId": "e26bbc13-7a10-4816-d0bb-857c12120f0a"
      },
      "execution_count": null,
      "outputs": [
        {
          "output_type": "display_data",
          "data": {
            "text/plain": [
              "<Figure size 640x480 with 1 Axes>"
            ],
            "image/png": "[encoded data removed]"
          },
          "metadata": {}
        }
      ]
    },
    {
      "cell_type": "code",
      "source": [
        "\n",
        "losses_nbrw = []\n",
        "\n",
        "num_expts = 50\n",
        "\n",
        "for expt in range(num_expts):\n",
        "\n",
        "  print(\"Running experiment:\", expt+1)\n",
        "\n",
        "  theta = np.random.rand(k, 1)\n",
        "\n",
        "  num_iter = int(1e5)\n",
        "\n",
        "  ep_loss = []\n",
        "\n",
        "  current_node = np.random.choice(np.arange(0, n))\n",
        "\n",
        "  for i in range(1, num_iter + 1):\n",
        "  \n",
        "\n",
        "    a_i = A[:, current_node].reshape(k, 1)\n",
        "    D_i = D[:, :, current_node].reshape(k, k)\n",
        "\n",
        "    gamma = 1/(i**(0.9))\n",
        "\n",
        "    grad_g = (sum(d)/(n*d[current_node]))*(2*( (a_i @ (a_i.T) + D_i) @ theta) + b)\n",
        "\n",
        "    theta -= gamma * grad_g\n",
        "\n",
        "    if i == 1:\n",
        "      previous_node = current_node\n",
        "      current_node = np.random.choice(np.arange(0, n), p = srw_mtx[current_node].reshape(n))  \n",
        "\n",
        "    else:\n",
        "      probs_nbrw = dolphins[current_node].copy()\n",
        "      probs_nbrw[previous_node] = 0\n",
        "      if probs_nbrw.sum() == 0:\n",
        "        probs_nbrw[previous_node] = 1\n",
        "      else:\n",
        "        probs_nbrw /= probs_nbrw.sum()\n",
        "      previous_node = current_node\n",
        "      current_node = np.random.choice(np.arange(0, n), p = probs_nbrw)\n",
        "    \n",
        "    ep_loss.append(np.linalg.norm(theta - theta_optim)**2)\n",
        "\n",
        "  losses_nbrw.append(ep_loss)\n"
      ],
      "metadata": {
        "colab": {
          "base_uri": "https://localhost:8080/"
        },
        "id": "yU-1RiXAiMyC",
        "outputId": "f76f7002-1cfa-4f9b-c709-c7476d88aa1e"
      },
      "execution_count": null,
      "outputs": [
        {
          "output_type": "stream",
          "name": "stdout",
          "text": [
            "Running experiment: 1\n",
            "Running experiment: 2\n",
            "Running experiment: 3\n",
            "Running experiment: 4\n",
            "Running experiment: 5\n",
            "Running experiment: 6\n",
            "Running experiment: 7\n",
            "Running experiment: 8\n",
            "Running experiment: 9\n",
            "Running experiment: 10\n",
            "Running experiment: 11\n",
            "Running experiment: 12\n",
            "Running experiment: 13\n",
            "Running experiment: 14\n",
            "Running experiment: 15\n",
            "Running experiment: 16\n",
            "Running experiment: 17\n",
            "Running experiment: 18\n",
            "Running experiment: 19\n",
            "Running experiment: 20\n",
            "Running experiment: 21\n",
            "Running experiment: 22\n",
            "Running experiment: 23\n",
            "Running experiment: 24\n",
            "Running experiment: 25\n",
            "Running experiment: 26\n",
            "Running experiment: 27\n",
            "Running experiment: 28\n",
            "Running experiment: 29\n",
            "Running experiment: 30\n",
            "Running experiment: 31\n",
            "Running experiment: 32\n",
            "Running experiment: 33\n",
            "Running experiment: 34\n",
            "Running experiment: 35\n",
            "Running experiment: 36\n",
            "Running experiment: 37\n",
            "Running experiment: 38\n",
            "Running experiment: 39\n",
            "Running experiment: 40\n",
            "Running experiment: 41\n",
            "Running experiment: 42\n",
            "Running experiment: 43\n",
            "Running experiment: 44\n",
            "Running experiment: 45\n",
            "Running experiment: 46\n",
            "Running experiment: 47\n",
            "Running experiment: 48\n",
            "Running experiment: 49\n",
            "Running experiment: 50\n"
          ]
        }
      ]
    },
    {
      "cell_type": "code",
      "source": [
        "exp_loss_nbrw = np.mean(np.array(losses_nbrw), axis = 0)"
      ],
      "metadata": {
        "id": "r9bSklEczuIA"
      },
      "execution_count": null,
      "outputs": []
    },
    {
      "cell_type": "code",
      "source": [
        "plt.plot(np.arange(0, num_iter), (exp_loss_srw), label = 'SRW')\n",
        "plt.plot(np.arange(0, num_iter), (exp_loss_nbrw), label = 'NBRW')\n",
        "plt.yscale('log')\n",
        "plt.legend()"
      ],
      "metadata": {
        "colab": {
          "base_uri": "https://localhost:8080/",
          "height": 447
        },
        "id": "RiosEsHYzi2L",
        "outputId": "8e6af697-de4e-4ea1-ea1e-4a42522bc8e0"
      },
      "execution_count": null,
      "outputs": [
        {
          "output_type": "execute_result",
          "data": {
            "text/plain": [
              "<matplotlib.legend.Legend at 0x7f5dbe0dad60>"
            ]
          },
          "metadata": {},
          "execution_count": 104
        },
        {
          "output_type": "display_data",
          "data": {
            "text/plain": [
              "<Figure size 640x480 with 1 Axes>"
            ],
            "image/png": "[encoded data removed]"
          },
          "metadata": {}
        }
      ]
    },
    {
      "cell_type": "markdown",
      "source": [
        "#### Uniform sampling"
      ],
      "metadata": {
        "id": "70zMYG4kcKqE"
      }
    },
    {
      "cell_type": "code",
      "source": [
        "\n",
        "losses_us = []\n",
        "\n",
        "num_expts = 50\n",
        "\n",
        "for expt in range(num_expts):\n",
        "\n",
        "  print(\"Running experiment:\", expt+1)\n",
        "\n",
        "\n",
        "  theta = np.random.rand(k, 1)\n",
        "\n",
        "  num_iter = int(1e5)\n",
        "\n",
        "  ep_loss = []\n",
        "\n",
        "  for i in range(1, num_iter + 1):\n",
        "\n",
        "    current_node = np.random.choice(np.arange(0, n))\n",
        "\n",
        "    a_i = A[:, current_node].reshape(k, 1)\n",
        "    D_i = D[:, :, current_node].reshape(k, k)\n",
        "\n",
        "    gamma = 1/(i**(0.9))\n",
        "\n",
        "    grad_g = 2*( (a_i @ (a_i.T) + D_i) @ theta) + b\n",
        "\n",
        "    theta -= gamma * grad_g\n",
        "\n",
        "    ep_loss.append(np.linalg.norm(theta - theta_optim)**2)\n",
        "  \n",
        "  losses_us.append(ep_loss)"
      ],
      "metadata": {
        "colab": {
          "base_uri": "https://localhost:8080/"
        },
        "id": "SLBwIWiWczvv",
        "outputId": "936651c0-b989-49d3-b833-b9b44bf563ab"
      },
      "execution_count": null,
      "outputs": [
        {
          "output_type": "stream",
          "name": "stdout",
          "text": [
            "Running experiment: 1\n",
            "Running experiment: 2\n",
            "Running experiment: 3\n",
            "Running experiment: 4\n",
            "Running experiment: 5\n",
            "Running experiment: 6\n",
            "Running experiment: 7\n",
            "Running experiment: 8\n",
            "Running experiment: 9\n",
            "Running experiment: 10\n",
            "Running experiment: 11\n",
            "Running experiment: 12\n",
            "Running experiment: 13\n",
            "Running experiment: 14\n",
            "Running experiment: 15\n",
            "Running experiment: 16\n",
            "Running experiment: 17\n",
            "Running experiment: 18\n",
            "Running experiment: 19\n",
            "Running experiment: 20\n",
            "Running experiment: 21\n",
            "Running experiment: 22\n",
            "Running experiment: 23\n",
            "Running experiment: 24\n",
            "Running experiment: 25\n",
            "Running experiment: 26\n",
            "Running experiment: 27\n",
            "Running experiment: 28\n",
            "Running experiment: 29\n",
            "Running experiment: 30\n",
            "Running experiment: 31\n",
            "Running experiment: 32\n",
            "Running experiment: 33\n",
            "Running experiment: 34\n",
            "Running experiment: 35\n",
            "Running experiment: 36\n",
            "Running experiment: 37\n",
            "Running experiment: 38\n",
            "Running experiment: 39\n",
            "Running experiment: 40\n",
            "Running experiment: 41\n",
            "Running experiment: 42\n",
            "Running experiment: 43\n",
            "Running experiment: 44\n",
            "Running experiment: 45\n",
            "Running experiment: 46\n",
            "Running experiment: 47\n",
            "Running experiment: 48\n",
            "Running experiment: 49\n",
            "Running experiment: 50\n"
          ]
        }
      ]
    },
    {
      "cell_type": "code",
      "source": [
        "exp_loss_us = np.mean(np.array(losses_us), axis = 0)\n"
      ],
      "metadata": {
        "id": "41flV-M-5kg2"
      },
      "execution_count": null,
      "outputs": []
    },
    {
      "cell_type": "code",
      "source": [
        "plt.plot(np.arange(0, num_iter), (exp_loss_srw), label = 'SRW')\n",
        "plt.plot(np.arange(0, num_iter), (exp_loss_nbrw), label = 'NBRW')\n",
        "plt.plot(np.arange(0, num_iter), (exp_loss_us), label = 'Uniform Sampling')\n",
        "plt.yscale('log')\n",
        "plt.legend()"
      ],
      "metadata": {
        "colab": {
          "base_uri": "https://localhost:8080/",
          "height": 447
        },
        "id": "tZGqlntt5rTz",
        "outputId": "857c32c0-866f-4bc4-de5a-068745d592ef"
      },
      "execution_count": null,
      "outputs": [
        {
          "output_type": "execute_result",
          "data": {
            "text/plain": [
              "<matplotlib.legend.Legend at 0x7f5da31b6e50>"
            ]
          },
          "metadata": {},
          "execution_count": 112
        },
        {
          "output_type": "display_data",
          "data": {
            "text/plain": [
              "<Figure size 640x480 with 1 Axes>"
            ],
            "image/png": "[encoded data removed]"
          },
          "metadata": {}
        }
      ]
    },
    {
      "cell_type": "markdown",
      "source": [
        "#### Single shuffling"
      ],
      "metadata": {
        "id": "hvMgRd16dVaZ"
      }
    },
    {
      "cell_type": "code",
      "source": [
        "losses_ss = []\n",
        "\n",
        "num_expts = 50\n",
        "\n",
        "for expt in range(num_expts):\n",
        "\n",
        "  print(\"Running experiment:\", expt+1)\n",
        "\n",
        "  node_perm = np.random.permutation(np.arange(0, n))\n",
        "\n",
        "  theta = np.random.rand(k, 1)\n",
        "\n",
        "  num_iter = int(1e5)\n",
        "\n",
        "  ep_loss = []\n",
        "\n",
        "  for i in range(1, num_iter + 1):\n",
        "\n",
        "    current_node = node_perm[(i-1)%n]\n",
        "\n",
        "    a_i = A[:, current_node].reshape(k, 1)\n",
        "    D_i = D[:, :, current_node].reshape(k, k)\n",
        "\n",
        "    gamma = 1/(i**(0.9))\n",
        "\n",
        "    grad_g = 2*( (a_i @ (a_i.T) + D_i) @ theta) + b\n",
        "\n",
        "    theta -= gamma * grad_g\n",
        "\n",
        "    ep_loss.append(np.linalg.norm(theta - theta_optim)**2)\n",
        "\n",
        "  losses_ss.append(ep_loss)"
      ],
      "metadata": {
        "colab": {
          "base_uri": "https://localhost:8080/"
        },
        "id": "pBJcRKsGduey",
        "outputId": "61eeb6db-7145-463c-e0e6-9c9a3235c11f"
      },
      "execution_count": null,
      "outputs": [
        {
          "output_type": "stream",
          "name": "stdout",
          "text": [
            "Running experiment: 1\n",
            "Running experiment: 2\n",
            "Running experiment: 3\n",
            "Running experiment: 4\n",
            "Running experiment: 5\n",
            "Running experiment: 6\n",
            "Running experiment: 7\n",
            "Running experiment: 8\n",
            "Running experiment: 9\n",
            "Running experiment: 10\n",
            "Running experiment: 11\n",
            "Running experiment: 12\n",
            "Running experiment: 13\n",
            "Running experiment: 14\n",
            "Running experiment: 15\n",
            "Running experiment: 16\n",
            "Running experiment: 17\n",
            "Running experiment: 18\n",
            "Running experiment: 19\n",
            "Running experiment: 20\n",
            "Running experiment: 21\n",
            "Running experiment: 22\n",
            "Running experiment: 23\n",
            "Running experiment: 24\n",
            "Running experiment: 25\n",
            "Running experiment: 26\n",
            "Running experiment: 27\n",
            "Running experiment: 28\n",
            "Running experiment: 29\n",
            "Running experiment: 30\n",
            "Running experiment: 31\n",
            "Running experiment: 32\n",
            "Running experiment: 33\n",
            "Running experiment: 34\n",
            "Running experiment: 35\n",
            "Running experiment: 36\n",
            "Running experiment: 37\n",
            "Running experiment: 38\n",
            "Running experiment: 39\n",
            "Running experiment: 40\n",
            "Running experiment: 41\n",
            "Running experiment: 42\n",
            "Running experiment: 43\n",
            "Running experiment: 44\n",
            "Running experiment: 45\n",
            "Running experiment: 46\n",
            "Running experiment: 47\n",
            "Running experiment: 48\n",
            "Running experiment: 49\n",
            "Running experiment: 50\n"
          ]
        }
      ]
    },
    {
      "cell_type": "code",
      "source": [
        "exp_loss_ss = np.mean(np.array(losses_ss), axis = 0)"
      ],
      "metadata": {
        "id": "Zhe87TBe7KqH"
      },
      "execution_count": null,
      "outputs": []
    },
    {
      "cell_type": "code",
      "source": [
        "plt.plot(np.arange(0, num_iter), (exp_loss_srw), label = 'SRW')\n",
        "plt.plot(np.arange(0, num_iter), (exp_loss_nbrw), label = 'NBRW')\n",
        "plt.plot(np.arange(0, num_iter), (exp_loss_us), label = 'Uniform Sampling')\n",
        "plt.plot(np.arange(0, num_iter), (exp_loss_ss), label = 'Single Shuffling')\n",
        "plt.yscale('log')\n",
        "plt.legend()"
      ],
      "metadata": {
        "colab": {
          "base_uri": "https://localhost:8080/",
          "height": 447
        },
        "id": "zMPtzbAp7Mx1",
        "outputId": "398323ab-0f5e-402e-af21-08b5d3d71283"
      },
      "execution_count": null,
      "outputs": [
        {
          "output_type": "execute_result",
          "data": {
            "text/plain": [
              "<matplotlib.legend.Legend at 0x7f5da3010c10>"
            ]
          },
          "metadata": {},
          "execution_count": 115
        },
        {
          "output_type": "display_data",
          "data": {
            "text/plain": [
              "<Figure size 640x480 with 1 Axes>"
            ],
            "image/png": "[encoded data removed]"
          },
          "metadata": {}
        }
      ]
    },
    {
      "cell_type": "markdown",
      "source": [
        "#### Random shuffling"
      ],
      "metadata": {
        "id": "BqdxQJYLfE0o"
      }
    },
    {
      "cell_type": "code",
      "source": [
        "losses_rs = []\n",
        "\n",
        "num_expts = 50\n",
        "\n",
        "for expt in range(num_expts):\n",
        "\n",
        "  print(\"Running experiment:\", expt+1)\n",
        "\n",
        "  theta = np.random.rand(k, 1)\n",
        "\n",
        "  num_iter = int(1e5)\n",
        "\n",
        "  ep_loss = []\n",
        "\n",
        "  for i in range(1, num_iter + 1):\n",
        "\n",
        "    if (i-1)%n == 0:\n",
        "      node_perm = np.random.permutation(np.arange(0, n))\n",
        "\n",
        "    current_node = node_perm[(i-1)%n]\n",
        "\n",
        "    a_i = A[:, current_node].reshape(k, 1)\n",
        "    D_i = D[:, :, current_node].reshape(k, k)\n",
        "\n",
        "    gamma = 1/(i**(0.9))\n",
        "\n",
        "    grad_g = 2*( (a_i @ (a_i.T) + D_i) @ theta) + b\n",
        "\n",
        "    theta -= gamma * grad_g\n",
        "\n",
        "    ep_loss.append(np.linalg.norm(theta - theta_optim)**2)\n",
        "\n",
        "  losses_rs.append(ep_loss)"
      ],
      "metadata": {
        "colab": {
          "base_uri": "https://localhost:8080/"
        },
        "id": "dPDTORci8EyB",
        "outputId": "2161f80b-3203-4c2b-c251-8f91fd66b98c"
      },
      "execution_count": null,
      "outputs": [
        {
          "output_type": "stream",
          "name": "stdout",
          "text": [
            "Running experiment: 1\n",
            "Running experiment: 2\n",
            "Running experiment: 3\n",
            "Running experiment: 4\n",
            "Running experiment: 5\n",
            "Running experiment: 6\n",
            "Running experiment: 7\n",
            "Running experiment: 8\n",
            "Running experiment: 9\n",
            "Running experiment: 10\n",
            "Running experiment: 11\n",
            "Running experiment: 12\n",
            "Running experiment: 13\n",
            "Running experiment: 14\n",
            "Running experiment: 15\n",
            "Running experiment: 16\n",
            "Running experiment: 17\n",
            "Running experiment: 18\n",
            "Running experiment: 19\n",
            "Running experiment: 20\n",
            "Running experiment: 21\n",
            "Running experiment: 22\n",
            "Running experiment: 23\n",
            "Running experiment: 24\n",
            "Running experiment: 25\n",
            "Running experiment: 26\n",
            "Running experiment: 27\n",
            "Running experiment: 28\n",
            "Running experiment: 29\n",
            "Running experiment: 30\n",
            "Running experiment: 31\n",
            "Running experiment: 32\n",
            "Running experiment: 33\n",
            "Running experiment: 34\n",
            "Running experiment: 35\n",
            "Running experiment: 36\n",
            "Running experiment: 37\n",
            "Running experiment: 38\n",
            "Running experiment: 39\n",
            "Running experiment: 40\n",
            "Running experiment: 41\n",
            "Running experiment: 42\n",
            "Running experiment: 43\n",
            "Running experiment: 44\n",
            "Running experiment: 45\n",
            "Running experiment: 46\n",
            "Running experiment: 47\n",
            "Running experiment: 48\n",
            "Running experiment: 49\n",
            "Running experiment: 50\n"
          ]
        }
      ]
    },
    {
      "cell_type": "code",
      "source": [
        "exp_loss_rs = np.mean(np.array(losses_rs), axis = 0)"
      ],
      "metadata": {
        "id": "NlSClU8M8tnr"
      },
      "execution_count": null,
      "outputs": []
    },
    {
      "cell_type": "code",
      "source": [
        "plt.plot(np.arange(1, num_iter+1), (exp_loss_srw), label = 'SRW')\n",
        "plt.plot(np.arange(1, num_iter+1), (exp_loss_nbrw), label = 'NBRW')\n",
        "plt.plot(np.arange(1, num_iter+1), (exp_loss_us), label = 'Uniform Sampling')\n",
        "plt.plot(np.arange(1, num_iter+1), (exp_loss_ss), label = 'Single Shuffling')\n",
        "plt.plot(np.arange(1, num_iter+1), (exp_loss_rs), label = 'Random Shuffling')\n",
        "plt.yscale('log')\n",
        "plt.title(r\"Loss: $\\hat{f}(\\theta)$\")\n",
        "plt.ylabel(r\"$\\mathbb{E}||\\theta_t - \\theta^*||^2_2$ (log-scale)\")\n",
        "plt.xlabel(\"No: of iterations\")\n",
        "plt.legend()\n",
        "plt.savefig(\"drive/MyDrive/EE5111/convex_loss.eps\", format='eps', bbox_inches = 'tight')"
      ],
      "metadata": {
        "colab": {
          "base_uri": "https://localhost:8080/",
          "height": 497
        },
        "id": "STAArVCr8xGg",
        "outputId": "be3cd632-0296-4152-db0e-a234d4063896"
      },
      "execution_count": null,
      "outputs": [
        {
          "output_type": "stream",
          "name": "stderr",
          "text": [
            "WARNING:matplotlib.backends.backend_ps:The PostScript backend does not support transparency; partially transparent artists will be rendered opaque.\n"
          ]
        },
        {
          "output_type": "display_data",
          "data": {
            "text/plain": [
              "<Figure size 640x480 with 1 Axes>"
            ],
            "image/png": "[encoded data removed]"
          },
          "metadata": {}
        }
      ]
    },
    {
      "cell_type": "code",
      "source": [
        "gammas = [1/(x**(0.9)) for x in range(1, num_iter+1)]"
      ],
      "metadata": {
        "id": "q0lu7-6sBHmC"
      },
      "execution_count": null,
      "outputs": []
    },
    {
      "cell_type": "code",
      "source": [
        "plt.plot(np.arange(0, num_iter), (exp_loss_srw/gammas), label = 'SRW')\n",
        "plt.plot(np.arange(0, num_iter), (exp_loss_nbrw/gammas), label = 'NBRW')\n",
        "plt.plot(np.arange(0, num_iter), (exp_loss_us/gammas), label = 'Uniform Sampling')\n",
        "plt.plot(np.arange(0, num_iter), (exp_loss_ss/gammas), label = 'Single Shuffling')\n",
        "plt.plot(np.arange(0, num_iter), (exp_loss_rs/gammas), label = 'Random Shuffling')\n",
        "plt.yscale('log')\n",
        "plt.title(r\"Loss: $\\hat{f}(\\theta)$\")\n",
        "plt.ylabel(r\"$\\mathbb{E}||\\theta_t - \\theta^*||^2_2 / \\gamma_t$ (log-scale)\")\n",
        "plt.xlabel(\"No: of iterations\")\n",
        "plt.legend()\n",
        "plt.savefig(\"drive/MyDrive/EE5111/convex_loss_gamma.eps\", format='eps', bbox_inches = 'tight')"
      ],
      "metadata": {
        "colab": {
          "base_uri": "https://localhost:8080/",
          "height": 497
        },
        "id": "bNYWs4Vp81ya",
        "outputId": "29489140-a7d3-41aa-f07c-dc9ae16db0bb"
      },
      "execution_count": null,
      "outputs": [
        {
          "output_type": "stream",
          "name": "stderr",
          "text": [
            "WARNING:matplotlib.backends.backend_ps:The PostScript backend does not support transparency; partially transparent artists will be rendered opaque.\n"
          ]
        },
        {
          "output_type": "display_data",
          "data": {
            "text/plain": [
              "<Figure size 640x480 with 1 Axes>"
            ],
            "image/png": "[encoded data removed]"
          },
          "metadata": {}
        }
      ]
    },
    {
      "cell_type": "code",
      "source": [],
      "metadata": {
        "id": "EFIDrNtWBtur"
      },
      "execution_count": null,
      "outputs": []
    }
  ]
}