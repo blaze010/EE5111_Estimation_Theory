{
  "nbformat": 4,
  "nbformat_minor": 0,
  "metadata": {
    "colab": {
      "provenance": []
    },
    "kernelspec": {
      "name": "python3",
      "display_name": "Python 3"
    },
    "language_info": {
      "name": "python"
    }
  },
  "cells": [
    {
      "cell_type": "markdown",
      "source": [
        "## Dolphins graph"
      ],
      "metadata": {
        "id": "6k2UlMoEVSQ_"
      }
    },
    {
      "cell_type": "markdown",
      "source": [
        "- Download the .mtx graph file from https://networkrepository.com/soc-dolphins.php. \n",
        "- This file essentially is a matrix file depicting the edges of the graph."
      ],
      "metadata": {
        "id": "rvdJeZMWWleY"
      }
    },
    {
      "cell_type": "code",
      "source": [
        "from scipy.io import mmread\n",
        "\n",
        "dolphins = mmread('drive/MyDrive/EE5111/soc-dolphins.mtx')\n",
        "dolphins = dolphins.toarray()"
      ],
      "metadata": {
        "id": "MtKCuBHLVZD6"
      },
      "execution_count": null,
      "outputs": []
    },
    {
      "cell_type": "code",
      "source": [
        "dolphins.shape"
      ],
      "metadata": {
        "colab": {
          "base_uri": "https://localhost:8080/"
        },
        "id": "DseMdwu_V5Sa",
        "outputId": "86fcf93d-3194-4277-83e2-88f922efcb34"
      },
      "execution_count": null,
      "outputs": [
        {
          "output_type": "execute_result",
          "data": {
            "text/plain": [
              "(62, 62)"
            ]
          },
          "metadata": {},
          "execution_count": 3
        }
      ]
    },
    {
      "cell_type": "markdown",
      "source": [
        "The graph has 62 nodes."
      ],
      "metadata": {
        "id": "8-wDkmwRW1v2"
      }
    },
    {
      "cell_type": "markdown",
      "source": [
        "1 represents the presence of an edge, 0 represents the absence of an edge"
      ],
      "metadata": {
        "id": "6AX4zIchWjTx"
      }
    },
    {
      "cell_type": "markdown",
      "source": [
        "## Transition matrix for simple random walk"
      ],
      "metadata": {
        "id": "-WyHz80EW71-"
      }
    },
    {
      "cell_type": "code",
      "source": [
        "import numpy as np"
      ],
      "metadata": {
        "id": "a6od9GZjX4se"
      },
      "execution_count": null,
      "outputs": []
    },
    {
      "cell_type": "code",
      "source": [
        "def gen_srw_transition(graph):\n",
        "\n",
        "  vertices = graph.shape[0]\n",
        "  trans_mtx = np.zeros((vertices, vertices))\n",
        "  degrees = []\n",
        "\n",
        "  for i in range(vertices):\n",
        "    total_edges = np.sum(graph[i, :])\n",
        "    degrees.append(total_edges)\n",
        "    trans_mtx[i, :] = graph[i, :]/total_edges\n",
        "  \n",
        "  return trans_mtx, degrees"
      ],
      "metadata": {
        "id": "w3T6XL-pXI8g"
      },
      "execution_count": null,
      "outputs": []
    },
    {
      "cell_type": "code",
      "source": [
        "srw_mtx, d = gen_srw_transition(dolphins)"
      ],
      "metadata": {
        "id": "QqX6PQwAXzDD"
      },
      "execution_count": null,
      "outputs": []
    },
    {
      "cell_type": "code",
      "source": [
        "srw_mtx[0]"
      ],
      "metadata": {
        "colab": {
          "base_uri": "https://localhost:8080/"
        },
        "id": "99jgURRShixG",
        "outputId": "91942e0c-4283-4932-b0a9-126c11c41b57"
      },
      "execution_count": null,
      "outputs": [
        {
          "output_type": "execute_result",
          "data": {
            "text/plain": [
              "array([0.        , 0.        , 0.        , 0.        , 0.        ,\n",
              "       0.        , 0.        , 0.        , 0.        , 0.        ,\n",
              "       0.16666667, 0.        , 0.        , 0.        , 0.16666667,\n",
              "       0.16666667, 0.        , 0.        , 0.        , 0.        ,\n",
              "       0.        , 0.        , 0.        , 0.        , 0.        ,\n",
              "       0.        , 0.        , 0.        , 0.        , 0.        ,\n",
              "       0.        , 0.        , 0.        , 0.        , 0.        ,\n",
              "       0.        , 0.        , 0.        , 0.        , 0.        ,\n",
              "       0.16666667, 0.        , 0.16666667, 0.        , 0.        ,\n",
              "       0.        , 0.        , 0.16666667, 0.        , 0.        ,\n",
              "       0.        , 0.        , 0.        , 0.        , 0.        ,\n",
              "       0.        , 0.        , 0.        , 0.        , 0.        ,\n",
              "       0.        , 0.        ])"
            ]
          },
          "metadata": {},
          "execution_count": 7
        }
      ]
    },
    {
      "cell_type": "code",
      "source": [
        "sum(d)"
      ],
      "metadata": {
        "colab": {
          "base_uri": "https://localhost:8080/"
        },
        "id": "3Yc-nMhYfyvZ",
        "outputId": "7f3116cc-dde1-498b-c44f-697765cf4d9f"
      },
      "execution_count": null,
      "outputs": [
        {
          "output_type": "execute_result",
          "data": {
            "text/plain": [
              "318.0"
            ]
          },
          "metadata": {},
          "execution_count": 8
        }
      ]
    },
    {
      "cell_type": "markdown",
      "source": [
        "## Vectors"
      ],
      "metadata": {
        "id": "3mAN0Cp8X3XW"
      }
    },
    {
      "cell_type": "code",
      "source": [
        "# No: of datapoints\n",
        "n = 62\n",
        "\n",
        "# Dimension of paramater vector\n",
        "k = 10\n",
        "\n",
        "A = np.zeros((k, n))\n",
        "a_sum = np.zeros(k)\n",
        "\n",
        "for i in range(n):\n",
        "  a = np.random.rand(k)\n",
        "  A[:, i] = a\n",
        "  a_sum += a\n",
        "  "
      ],
      "metadata": {
        "id": "FH2JU35SX81t"
      },
      "execution_count": null,
      "outputs": []
    },
    {
      "cell_type": "code",
      "source": [
        "theta_optim = (1/n)*(a_sum)"
      ],
      "metadata": {
        "id": "7ThBLKcJecm0"
      },
      "execution_count": null,
      "outputs": []
    },
    {
      "cell_type": "code",
      "source": [
        "theta_optim"
      ],
      "metadata": {
        "colab": {
          "base_uri": "https://localhost:8080/"
        },
        "id": "aR5a3kNajDIl",
        "outputId": "bd865ef6-e24c-4425-a27f-0720e7bc6f29"
      },
      "execution_count": null,
      "outputs": [
        {
          "output_type": "execute_result",
          "data": {
            "text/plain": [
              "array([0.49095743, 0.49059594, 0.43377454, 0.50391219, 0.4952963 ,\n",
              "       0.46603622, 0.49413967, 0.53750927, 0.45790361, 0.43659086])"
            ]
          },
          "metadata": {},
          "execution_count": 12
        }
      ]
    },
    {
      "cell_type": "code",
      "source": [
        "def fun(x):\n",
        "  x = x.reshape(k, 1)\n",
        "  return n * x.T @ x - 2 * a_sum.T @ x"
      ],
      "metadata": {
        "id": "OICL4C7mkW70"
      },
      "execution_count": null,
      "outputs": []
    },
    {
      "cell_type": "code",
      "source": [
        "from scipy.optimize import minimize"
      ],
      "metadata": {
        "id": "HDWk-W61koAh"
      },
      "execution_count": null,
      "outputs": []
    },
    {
      "cell_type": "code",
      "source": [
        "test = minimize(fun, np.random.rand(k))"
      ],
      "metadata": {
        "id": "6_eK2mRWkltW"
      },
      "execution_count": null,
      "outputs": []
    },
    {
      "cell_type": "code",
      "source": [
        "test"
      ],
      "metadata": {
        "colab": {
          "base_uri": "https://localhost:8080/"
        },
        "id": "LebntlnCk06x",
        "outputId": "e68d093e-539a-43d5-fd50-7abeba5e6179"
      },
      "execution_count": null,
      "outputs": [
        {
          "output_type": "execute_result",
          "data": {
            "text/plain": [
              "  message: Optimization terminated successfully.\n",
              "  success: True\n",
              "   status: 0\n",
              "      fun: -143.82122090169423\n",
              "        x: [ 4.910e-01  4.906e-01  4.338e-01  5.039e-01  4.953e-01\n",
              "             4.660e-01  4.941e-01  5.375e-01  4.579e-01  4.366e-01]\n",
              "      nit: 3\n",
              "      jac: [ 0.000e+00  1.907e-06  0.000e+00  0.000e+00 -1.907e-06\n",
              "             0.000e+00  0.000e+00  3.815e-06  1.907e-06  0.000e+00]\n",
              " hess_inv: [[ 9.998e-01  8.235e-03 ...  9.164e-03 -1.913e-03]\n",
              "            [ 8.235e-03  6.624e-01 ... -3.757e-01  7.844e-02]\n",
              "            ...\n",
              "            [ 9.164e-03 -3.757e-01 ...  5.820e-01  8.729e-02]\n",
              "            [-1.913e-03  7.844e-02 ...  8.729e-02  9.818e-01]]\n",
              "     nfev: 55\n",
              "     njev: 5"
            ]
          },
          "metadata": {},
          "execution_count": 19
        }
      ]
    },
    {
      "cell_type": "markdown",
      "source": [
        "### Performing SGD"
      ],
      "metadata": {
        "id": "TF7M-b_CYVGu"
      }
    },
    {
      "cell_type": "code",
      "source": [
        "import matplotlib.pyplot as plt"
      ],
      "metadata": {
        "id": "GUp6XQOQjPet"
      },
      "execution_count": null,
      "outputs": []
    },
    {
      "cell_type": "code",
      "source": [
        "\n",
        "\n",
        "losses = []\n",
        "\n",
        "num_expts = 50\n",
        "\n",
        "for expt in range(num_expts):\n",
        "\n",
        "  print(\"Running experiment:\", expt+1)\n",
        "\n",
        "  ep_loss = []\n",
        "\n",
        "  theta = np.random.rand(k, 1)\n",
        "\n",
        "  num_iter = int(1e5)\n",
        "\n",
        "  current_node = np.random.choice(np.arange(0, n))\n",
        "\n",
        "  for i in range(1, num_iter + 1):\n",
        "\n",
        "    a_i = A[:, current_node].reshape(k, 1)\n",
        "\n",
        "    gamma = 1/(i**(0.9))\n",
        "\n",
        "    grad_g = (sum(d)/(n*d[current_node]))*(2*( theta - a_i ))\n",
        "\n",
        "    theta -= gamma * grad_g\n",
        "\n",
        "    current_node = np.random.choice(np.arange(0, n), p = srw_mtx[current_node].reshape(n))  \n",
        "\n",
        "    ep_loss.append(np.linalg.norm(theta - theta_optim)**2)\n",
        "  \n",
        "  losses.append(ep_loss)\n",
        "\n",
        "\n"
      ],
      "metadata": {
        "colab": {
          "base_uri": "https://localhost:8080/"
        },
        "id": "8nk9q0bUbsD4",
        "outputId": "f5c7599b-6621-4f4c-e839-ca0025e93f80"
      },
      "execution_count": null,
      "outputs": [
        {
          "output_type": "stream",
          "name": "stdout",
          "text": [
            "Running experiment: 1\n",
            "Running experiment: 2\n",
            "Running experiment: 3\n",
            "Running experiment: 4\n",
            "Running experiment: 5\n",
            "Running experiment: 6\n",
            "Running experiment: 7\n",
            "Running experiment: 8\n",
            "Running experiment: 9\n",
            "Running experiment: 10\n",
            "Running experiment: 11\n",
            "Running experiment: 12\n",
            "Running experiment: 13\n",
            "Running experiment: 14\n",
            "Running experiment: 15\n",
            "Running experiment: 16\n",
            "Running experiment: 17\n",
            "Running experiment: 18\n",
            "Running experiment: 19\n",
            "Running experiment: 20\n",
            "Running experiment: 21\n",
            "Running experiment: 22\n",
            "Running experiment: 23\n",
            "Running experiment: 24\n",
            "Running experiment: 25\n",
            "Running experiment: 26\n",
            "Running experiment: 27\n",
            "Running experiment: 28\n",
            "Running experiment: 29\n",
            "Running experiment: 30\n",
            "Running experiment: 31\n",
            "Running experiment: 32\n",
            "Running experiment: 33\n",
            "Running experiment: 34\n",
            "Running experiment: 35\n",
            "Running experiment: 36\n",
            "Running experiment: 37\n",
            "Running experiment: 38\n",
            "Running experiment: 39\n",
            "Running experiment: 40\n",
            "Running experiment: 41\n",
            "Running experiment: 42\n",
            "Running experiment: 43\n",
            "Running experiment: 44\n",
            "Running experiment: 45\n",
            "Running experiment: 46\n",
            "Running experiment: 47\n",
            "Running experiment: 48\n",
            "Running experiment: 49\n",
            "Running experiment: 50\n"
          ]
        }
      ]
    },
    {
      "cell_type": "code",
      "source": [
        "exp_loss_srw = np.mean(np.array(losses), axis = 0)"
      ],
      "metadata": {
        "id": "0ityg9Jpwir-"
      },
      "execution_count": null,
      "outputs": []
    },
    {
      "cell_type": "code",
      "source": [
        "plt.plot(np.arange(0, num_iter), (exp_loss_srw))\n",
        "plt.yscale('log')"
      ],
      "metadata": {
        "colab": {
          "base_uri": "https://localhost:8080/",
          "height": 430
        },
        "id": "L9R0Tn3VwvdM",
        "outputId": "ba5ced74-a7c9-4fb7-bb55-9ef503fa7b41"
      },
      "execution_count": null,
      "outputs": [
        {
          "output_type": "display_data",
          "data": {
            "text/plain": [
              "<Figure size 640x480 with 1 Axes>"
            ],
            "image/png": "[encoded data removed]"
          },
          "metadata": {}
        }
      ]
    },
    {
      "cell_type": "code",
      "source": [
        "\n",
        "losses_nbrw = []\n",
        "\n",
        "num_expts = 50\n",
        "\n",
        "for expt in range(num_expts):\n",
        "\n",
        "  print(\"Running experiment:\", expt+1)\n",
        "\n",
        "  theta = np.random.rand(k, 1)\n",
        "\n",
        "  num_iter = int(1e5)\n",
        "\n",
        "  ep_loss = []\n",
        "\n",
        "  current_node = np.random.choice(np.arange(0, n))\n",
        "\n",
        "  for i in range(1, num_iter + 1):\n",
        "  \n",
        "\n",
        "    a_i = A[:, current_node].reshape(k, 1)\n",
        "\n",
        "    gamma = 1/(i**(0.9))\n",
        "\n",
        "    grad_g = (sum(d)/(n*d[current_node]))*(2*( theta - a_i ))\n",
        "\n",
        "    theta -= gamma * grad_g\n",
        "\n",
        "    if i == 1:\n",
        "      previous_node = current_node\n",
        "      current_node = np.random.choice(np.arange(0, n), p = srw_mtx[current_node].reshape(n))  \n",
        "\n",
        "    else:\n",
        "      probs_nbrw = dolphins[current_node].copy()\n",
        "      probs_nbrw[previous_node] = 0\n",
        "      if probs_nbrw.sum() == 0:\n",
        "        probs_nbrw[previous_node] = 1\n",
        "      else:\n",
        "        probs_nbrw /= probs_nbrw.sum()\n",
        "      previous_node = current_node\n",
        "      current_node = np.random.choice(np.arange(0, n), p = probs_nbrw)\n",
        "    \n",
        "    ep_loss.append(np.linalg.norm(theta - theta_optim)**2)\n",
        "\n",
        "  losses_nbrw.append(ep_loss)\n"
      ],
      "metadata": {
        "colab": {
          "base_uri": "https://localhost:8080/"
        },
        "id": "yU-1RiXAiMyC",
        "outputId": "0a0380ea-f49d-416d-ea44-9d12d107b442"
      },
      "execution_count": null,
      "outputs": [
        {
          "output_type": "stream",
          "name": "stdout",
          "text": [
            "Running experiment: 1\n",
            "Running experiment: 2\n",
            "Running experiment: 3\n",
            "Running experiment: 4\n",
            "Running experiment: 5\n",
            "Running experiment: 6\n",
            "Running experiment: 7\n",
            "Running experiment: 8\n",
            "Running experiment: 9\n",
            "Running experiment: 10\n",
            "Running experiment: 11\n",
            "Running experiment: 12\n",
            "Running experiment: 13\n",
            "Running experiment: 14\n",
            "Running experiment: 15\n",
            "Running experiment: 16\n",
            "Running experiment: 17\n",
            "Running experiment: 18\n",
            "Running experiment: 19\n",
            "Running experiment: 20\n",
            "Running experiment: 21\n",
            "Running experiment: 22\n",
            "Running experiment: 23\n",
            "Running experiment: 24\n",
            "Running experiment: 25\n",
            "Running experiment: 26\n",
            "Running experiment: 27\n",
            "Running experiment: 28\n",
            "Running experiment: 29\n",
            "Running experiment: 30\n",
            "Running experiment: 31\n",
            "Running experiment: 32\n",
            "Running experiment: 33\n",
            "Running experiment: 34\n",
            "Running experiment: 35\n",
            "Running experiment: 36\n",
            "Running experiment: 37\n",
            "Running experiment: 38\n",
            "Running experiment: 39\n",
            "Running experiment: 40\n",
            "Running experiment: 41\n",
            "Running experiment: 42\n",
            "Running experiment: 43\n",
            "Running experiment: 44\n",
            "Running experiment: 45\n",
            "Running experiment: 46\n",
            "Running experiment: 47\n",
            "Running experiment: 48\n",
            "Running experiment: 49\n",
            "Running experiment: 50\n"
          ]
        }
      ]
    },
    {
      "cell_type": "code",
      "source": [
        "exp_loss_nbrw = np.mean(np.array(losses_nbrw), axis = 0)"
      ],
      "metadata": {
        "id": "r9bSklEczuIA"
      },
      "execution_count": null,
      "outputs": []
    },
    {
      "cell_type": "code",
      "source": [
        "plt.plot(np.arange(0, num_iter), (exp_loss_srw), label = 'SRW')\n",
        "plt.plot(np.arange(0, num_iter), (exp_loss_nbrw), label = 'NBRW')\n",
        "plt.yscale('log')\n",
        "plt.legend()"
      ],
      "metadata": {
        "colab": {
          "base_uri": "https://localhost:8080/",
          "height": 447
        },
        "id": "RiosEsHYzi2L",
        "outputId": "53c1d9e1-56a8-483e-9c01-a77573d63c02"
      },
      "execution_count": null,
      "outputs": [
        {
          "output_type": "execute_result",
          "data": {
            "text/plain": [
              "<matplotlib.legend.Legend at 0x7faef1f3c310>"
            ]
          },
          "metadata": {},
          "execution_count": 26
        },
        {
          "output_type": "display_data",
          "data": {
            "text/plain": [
              "<Figure size 640x480 with 1 Axes>"
            ],
            "image/png": "[encoded data removed]"
          },
          "metadata": {}
        }
      ]
    },
    {
      "cell_type": "markdown",
      "source": [
        "#### Uniform sampling"
      ],
      "metadata": {
        "id": "70zMYG4kcKqE"
      }
    },
    {
      "cell_type": "code",
      "source": [
        "\n",
        "losses_us = []\n",
        "\n",
        "num_expts = 50\n",
        "\n",
        "for expt in range(num_expts):\n",
        "\n",
        "  print(\"Running experiment:\", expt+1)\n",
        "\n",
        "\n",
        "  theta = np.random.rand(k, 1)\n",
        "\n",
        "  num_iter = int(1e5)\n",
        "\n",
        "  ep_loss = []\n",
        "\n",
        "  for i in range(1, num_iter + 1):\n",
        "\n",
        "    current_node = np.random.choice(np.arange(0, n))\n",
        "\n",
        "    a_i = A[:, current_node].reshape(k, 1)\n",
        "\n",
        "    gamma = 1/(i**(0.9))\n",
        "\n",
        "    grad_g = 2*( theta - a_i )\n",
        "\n",
        "    theta -= gamma * grad_g\n",
        "\n",
        "    ep_loss.append(np.linalg.norm(theta - theta_optim)**2)\n",
        "  \n",
        "  losses_us.append(ep_loss)"
      ],
      "metadata": {
        "colab": {
          "base_uri": "https://localhost:8080/"
        },
        "id": "SLBwIWiWczvv",
        "outputId": "cb31ca6c-1443-4f9c-c50f-7c90af197242"
      },
      "execution_count": null,
      "outputs": [
        {
          "output_type": "stream",
          "name": "stdout",
          "text": [
            "Running experiment: 1\n",
            "Running experiment: 2\n",
            "Running experiment: 3\n",
            "Running experiment: 4\n",
            "Running experiment: 5\n",
            "Running experiment: 6\n",
            "Running experiment: 7\n",
            "Running experiment: 8\n",
            "Running experiment: 9\n",
            "Running experiment: 10\n",
            "Running experiment: 11\n",
            "Running experiment: 12\n",
            "Running experiment: 13\n",
            "Running experiment: 14\n",
            "Running experiment: 15\n",
            "Running experiment: 16\n",
            "Running experiment: 17\n",
            "Running experiment: 18\n",
            "Running experiment: 19\n",
            "Running experiment: 20\n",
            "Running experiment: 21\n",
            "Running experiment: 22\n",
            "Running experiment: 23\n",
            "Running experiment: 24\n",
            "Running experiment: 25\n",
            "Running experiment: 26\n",
            "Running experiment: 27\n",
            "Running experiment: 28\n",
            "Running experiment: 29\n",
            "Running experiment: 30\n",
            "Running experiment: 31\n",
            "Running experiment: 32\n",
            "Running experiment: 33\n",
            "Running experiment: 34\n",
            "Running experiment: 35\n",
            "Running experiment: 36\n",
            "Running experiment: 37\n",
            "Running experiment: 38\n",
            "Running experiment: 39\n",
            "Running experiment: 40\n",
            "Running experiment: 41\n",
            "Running experiment: 42\n",
            "Running experiment: 43\n",
            "Running experiment: 44\n",
            "Running experiment: 45\n",
            "Running experiment: 46\n",
            "Running experiment: 47\n",
            "Running experiment: 48\n",
            "Running experiment: 49\n",
            "Running experiment: 50\n"
          ]
        }
      ]
    },
    {
      "cell_type": "code",
      "source": [
        "exp_loss_us = np.mean(np.array(losses_us), axis = 0)\n"
      ],
      "metadata": {
        "id": "41flV-M-5kg2"
      },
      "execution_count": null,
      "outputs": []
    },
    {
      "cell_type": "code",
      "source": [
        "plt.plot(np.arange(0, num_iter), (exp_loss_srw), label = 'SRW')\n",
        "plt.plot(np.arange(0, num_iter), (exp_loss_nbrw), label = 'NBRW')\n",
        "plt.plot(np.arange(0, num_iter), (exp_loss_us), label = 'Uniform Sampling')\n",
        "plt.yscale('log')\n",
        "plt.legend()"
      ],
      "metadata": {
        "colab": {
          "base_uri": "https://localhost:8080/",
          "height": 447
        },
        "id": "tZGqlntt5rTz",
        "outputId": "b44db9b5-ca72-4db9-d9f2-640638ab5b4b"
      },
      "execution_count": null,
      "outputs": [
        {
          "output_type": "execute_result",
          "data": {
            "text/plain": [
              "<matplotlib.legend.Legend at 0x7faee5fdf1c0>"
            ]
          },
          "metadata": {},
          "execution_count": 29
        },
        {
          "output_type": "display_data",
          "data": {
            "text/plain": [
              "<Figure size 640x480 with 1 Axes>"
            ],
            "image/png": "[encoded data removed]"
          },
          "metadata": {}
        }
      ]
    },
    {
      "cell_type": "markdown",
      "source": [
        "#### Single shuffling"
      ],
      "metadata": {
        "id": "hvMgRd16dVaZ"
      }
    },
    {
      "cell_type": "code",
      "source": [
        "losses_ss = []\n",
        "\n",
        "num_expts = 50\n",
        "\n",
        "for expt in range(num_expts):\n",
        "\n",
        "  print(\"Running experiment:\", expt+1)\n",
        "\n",
        "  node_perm = np.random.permutation(np.arange(0, n))\n",
        "\n",
        "  theta = np.random.rand(k, 1)\n",
        "\n",
        "  num_iter = int(1e5)\n",
        "\n",
        "  ep_loss = []\n",
        "\n",
        "  for i in range(1, num_iter + 1):\n",
        "\n",
        "    current_node = node_perm[(i-1)%n]\n",
        "\n",
        "    a_i = A[:, current_node].reshape(k, 1)\n",
        "\n",
        "    gamma = 1/(i**(0.9))\n",
        "\n",
        "    grad_g = 2*( theta - a_i )\n",
        "\n",
        "    theta -= gamma * grad_g\n",
        "\n",
        "    ep_loss.append(np.linalg.norm(theta - theta_optim)**2)\n",
        "\n",
        "  losses_ss.append(ep_loss)"
      ],
      "metadata": {
        "colab": {
          "base_uri": "https://localhost:8080/"
        },
        "id": "pBJcRKsGduey",
        "outputId": "109274b6-bda5-40b4-f268-3bea1df56f7f"
      },
      "execution_count": null,
      "outputs": [
        {
          "output_type": "stream",
          "name": "stdout",
          "text": [
            "Running experiment: 1\n",
            "Running experiment: 2\n",
            "Running experiment: 3\n",
            "Running experiment: 4\n",
            "Running experiment: 5\n",
            "Running experiment: 6\n",
            "Running experiment: 7\n",
            "Running experiment: 8\n",
            "Running experiment: 9\n",
            "Running experiment: 10\n",
            "Running experiment: 11\n",
            "Running experiment: 12\n",
            "Running experiment: 13\n",
            "Running experiment: 14\n",
            "Running experiment: 15\n",
            "Running experiment: 16\n",
            "Running experiment: 17\n",
            "Running experiment: 18\n",
            "Running experiment: 19\n",
            "Running experiment: 20\n",
            "Running experiment: 21\n",
            "Running experiment: 22\n",
            "Running experiment: 23\n",
            "Running experiment: 24\n",
            "Running experiment: 25\n",
            "Running experiment: 26\n",
            "Running experiment: 27\n",
            "Running experiment: 28\n",
            "Running experiment: 29\n",
            "Running experiment: 30\n",
            "Running experiment: 31\n",
            "Running experiment: 32\n",
            "Running experiment: 33\n",
            "Running experiment: 34\n",
            "Running experiment: 35\n",
            "Running experiment: 36\n",
            "Running experiment: 37\n",
            "Running experiment: 38\n",
            "Running experiment: 39\n",
            "Running experiment: 40\n",
            "Running experiment: 41\n",
            "Running experiment: 42\n",
            "Running experiment: 43\n",
            "Running experiment: 44\n",
            "Running experiment: 45\n",
            "Running experiment: 46\n",
            "Running experiment: 47\n",
            "Running experiment: 48\n",
            "Running experiment: 49\n",
            "Running experiment: 50\n"
          ]
        }
      ]
    },
    {
      "cell_type": "code",
      "source": [
        "exp_loss_ss = np.mean(np.array(losses_ss), axis = 0)"
      ],
      "metadata": {
        "id": "Zhe87TBe7KqH"
      },
      "execution_count": null,
      "outputs": []
    },
    {
      "cell_type": "code",
      "source": [
        "plt.plot(np.arange(0, num_iter), (exp_loss_srw), label = 'SRW')\n",
        "plt.plot(np.arange(0, num_iter), (exp_loss_nbrw), label = 'NBRW')\n",
        "plt.plot(np.arange(0, num_iter), (exp_loss_us), label = 'Uniform Sampling')\n",
        "plt.plot(np.arange(0, num_iter), (exp_loss_ss), label = 'Single Shuffling')\n",
        "plt.yscale('log')\n",
        "plt.legend()"
      ],
      "metadata": {
        "colab": {
          "base_uri": "https://localhost:8080/",
          "height": 447
        },
        "id": "zMPtzbAp7Mx1",
        "outputId": "4c9b8c4b-92ba-4815-faee-73dd7c15fbc8"
      },
      "execution_count": null,
      "outputs": [
        {
          "output_type": "execute_result",
          "data": {
            "text/plain": [
              "<matplotlib.legend.Legend at 0x7faedc365c40>"
            ]
          },
          "metadata": {},
          "execution_count": 32
        },
        {
          "output_type": "display_data",
          "data": {
            "text/plain": [
              "<Figure size 640x480 with 1 Axes>"
            ],
            "image/png": "[encoded data removed]"
          },
          "metadata": {}
        }
      ]
    },
    {
      "cell_type": "markdown",
      "source": [
        "#### Random shuffling"
      ],
      "metadata": {
        "id": "BqdxQJYLfE0o"
      }
    },
    {
      "cell_type": "code",
      "source": [
        "losses_rs = []\n",
        "\n",
        "num_expts = 50\n",
        "\n",
        "for expt in range(num_expts):\n",
        "\n",
        "  print(\"Running experiment:\", expt+1)\n",
        "\n",
        "  theta = np.random.rand(k, 1)\n",
        "\n",
        "  num_iter = int(1e5)\n",
        "\n",
        "  ep_loss = []\n",
        "\n",
        "  for i in range(1, num_iter + 1):\n",
        "\n",
        "    if (i-1)%n == 0:\n",
        "      node_perm = np.random.permutation(np.arange(0, n))\n",
        "\n",
        "    current_node = node_perm[(i-1)%n]\n",
        "\n",
        "    a_i = A[:, current_node].reshape(k, 1)\n",
        "\n",
        "    gamma = 1/(i**(0.9))\n",
        "\n",
        "    grad_g = 2*( theta - a_i )\n",
        "\n",
        "    theta -= gamma * grad_g\n",
        "\n",
        "    ep_loss.append(np.linalg.norm(theta - theta_optim)**2)\n",
        "\n",
        "  losses_rs.append(ep_loss)"
      ],
      "metadata": {
        "colab": {
          "base_uri": "https://localhost:8080/"
        },
        "id": "dPDTORci8EyB",
        "outputId": "59f7d55b-b943-4a08-9b3f-65c9395c6e89"
      },
      "execution_count": null,
      "outputs": [
        {
          "output_type": "stream",
          "name": "stdout",
          "text": [
            "Running experiment: 1\n",
            "Running experiment: 2\n",
            "Running experiment: 3\n",
            "Running experiment: 4\n",
            "Running experiment: 5\n",
            "Running experiment: 6\n",
            "Running experiment: 7\n",
            "Running experiment: 8\n",
            "Running experiment: 9\n",
            "Running experiment: 10\n",
            "Running experiment: 11\n",
            "Running experiment: 12\n",
            "Running experiment: 13\n",
            "Running experiment: 14\n",
            "Running experiment: 15\n",
            "Running experiment: 16\n",
            "Running experiment: 17\n",
            "Running experiment: 18\n",
            "Running experiment: 19\n",
            "Running experiment: 20\n",
            "Running experiment: 21\n",
            "Running experiment: 22\n",
            "Running experiment: 23\n",
            "Running experiment: 24\n",
            "Running experiment: 25\n",
            "Running experiment: 26\n",
            "Running experiment: 27\n",
            "Running experiment: 28\n",
            "Running experiment: 29\n",
            "Running experiment: 30\n",
            "Running experiment: 31\n",
            "Running experiment: 32\n",
            "Running experiment: 33\n",
            "Running experiment: 34\n",
            "Running experiment: 35\n",
            "Running experiment: 36\n",
            "Running experiment: 37\n",
            "Running experiment: 38\n",
            "Running experiment: 39\n",
            "Running experiment: 40\n",
            "Running experiment: 41\n",
            "Running experiment: 42\n",
            "Running experiment: 43\n",
            "Running experiment: 44\n",
            "Running experiment: 45\n",
            "Running experiment: 46\n",
            "Running experiment: 47\n",
            "Running experiment: 48\n",
            "Running experiment: 49\n",
            "Running experiment: 50\n"
          ]
        }
      ]
    },
    {
      "cell_type": "code",
      "source": [
        "exp_loss_rs = np.mean(np.array(losses_rs), axis = 0)"
      ],
      "metadata": {
        "id": "NlSClU8M8tnr"
      },
      "execution_count": null,
      "outputs": []
    },
    {
      "cell_type": "code",
      "source": [
        "plt.plot(np.arange(1001, num_iter+1), (exp_loss_srw[1000:]), label = 'SRW')\n",
        "plt.plot(np.arange(1001, num_iter+1), (exp_loss_nbrw[1000:]), label = 'NBRW')\n",
        "plt.plot(np.arange(1001, num_iter+1), (exp_loss_us[1000:]), label = 'Uniform Sampling')\n",
        "plt.plot(np.arange(1001, num_iter+1), (exp_loss_ss[1000:]), label = 'Single Shuffling')\n",
        "plt.plot(np.arange(1001, num_iter+1), (exp_loss_rs[1000:]), label = 'Random Shuffling')\n",
        "#plt.yscale('log')\n",
        "plt.title(r\"Loss: $\\hat{g}(\\theta)$\")\n",
        "plt.ylabel(r\"$\\mathbb{E}||\\theta_t - \\theta^*||^2_2$\")\n",
        "plt.xlabel(\"No: of iterations\")\n",
        "plt.legend()\n",
        "plt.savefig(\"drive/MyDrive/EE5111/square_loss.eps\", format='eps', bbox_inches = 'tight')"
      ],
      "metadata": {
        "colab": {
          "base_uri": "https://localhost:8080/",
          "height": 493
        },
        "id": "STAArVCr8xGg",
        "outputId": "b8f2c594-7d55-405c-857c-a478c088a71d"
      },
      "execution_count": null,
      "outputs": [
        {
          "output_type": "stream",
          "name": "stderr",
          "text": [
            "WARNING:matplotlib.backends.backend_ps:The PostScript backend does not support transparency; partially transparent artists will be rendered opaque.\n"
          ]
        },
        {
          "output_type": "display_data",
          "data": {
            "text/plain": [
              "<Figure size 640x480 with 1 Axes>"
            ],
            "image/png": "[encoded data removed]"
          },
          "metadata": {}
        }
      ]
    },
    {
      "cell_type": "code",
      "source": [
        "gammas = [1/(x**(0.9)) for x in range(1, num_iter+1)]"
      ],
      "metadata": {
        "id": "q0lu7-6sBHmC"
      },
      "execution_count": null,
      "outputs": []
    },
    {
      "cell_type": "code",
      "source": [
        "plt.plot(np.arange(1001, num_iter+1), (exp_loss_srw[1000:]/gammas[1000:]), label = 'SRW')\n",
        "plt.plot(np.arange(1001, num_iter+1), (exp_loss_nbrw[1000:]/gammas[1000:]), label = 'NBRW')\n",
        "plt.plot(np.arange(1001, num_iter+1), (exp_loss_us[1000:]/gammas[1000:]), label = 'Uniform Sampling')\n",
        "plt.plot(np.arange(1001, num_iter+1), (exp_loss_ss[1000:]/gammas[1000:]), label = 'Single Shuffling')\n",
        "plt.plot(np.arange(1001, num_iter+1), (exp_loss_rs[1000:]/gammas[1000:]), label = 'Random Shuffling')\n",
        "plt.title(r\"Loss: $\\hat{g}(\\theta)$\")\n",
        "plt.ylabel(r\"$\\mathbb{E}||\\theta_t - \\theta^*||^2_2 / \\gamma_t$\")\n",
        "plt.xlabel(\"No: of iterations\")\n",
        "plt.legend()\n",
        "plt.savefig(\"drive/MyDrive/EE5111/square_loss_gamma.eps\", format='eps', bbox_inches = 'tight')"
      ],
      "metadata": {
        "colab": {
          "base_uri": "https://localhost:8080/",
          "height": 493
        },
        "id": "bNYWs4Vp81ya",
        "outputId": "8a5735e0-9021-4643-d74d-6cbf507cc60f"
      },
      "execution_count": null,
      "outputs": [
        {
          "output_type": "stream",
          "name": "stderr",
          "text": [
            "WARNING:matplotlib.backends.backend_ps:The PostScript backend does not support transparency; partially transparent artists will be rendered opaque.\n"
          ]
        },
        {
          "output_type": "display_data",
          "data": {
            "text/plain": [
              "<Figure size 640x480 with 1 Axes>"
            ],
            "image/png": "[encoded data removed]"
          },
          "metadata": {}
        }
      ]
    },
    {
      "cell_type": "code",
      "source": [],
      "metadata": {
        "id": "EFIDrNtWBtur"
      },
      "execution_count": null,
      "outputs": []
    }
  ]
}